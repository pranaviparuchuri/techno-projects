{
 "cells": [
  {
   "cell_type": "markdown",
   "id": "2de6289f",
   "metadata": {},
   "source": [
    "# Task 1 - Perform Data Cleaning\n",
    " - Clean a dataset by removing missing values and outliers"
   ]
  },
  {
   "cell_type": "markdown",
   "id": "9fb60974",
   "metadata": {},
   "source": [
    "- The data - There are three files in the data: (1) train.csv, (2) test.csv, and (3) gender_submission.csv."
   ]
  },
  {
   "cell_type": "code",
   "execution_count": 2,
   "id": "e73bf009",
   "metadata": {},
   "outputs": [],
   "source": [
    "import pandas as pd\n",
    "import matplotlib.pyplot as plt\n",
    "import seaborn as sns\n",
    "import numpy as np"
   ]
  },
  {
   "cell_type": "markdown",
   "id": "1bb7bfe3",
   "metadata": {},
   "source": [
    "# Importing data"
   ]
  },
  {
   "cell_type": "code",
   "execution_count": 3,
   "id": "b0a21c08",
   "metadata": {},
   "outputs": [],
   "source": [
    "titanic_train = pd.read_csv(r'C:\\Users\\paruc\\OneDrive\\Desktop\\Work\\TechnoHacks\\train.csv')\n",
    "titanic_test = pd.read_csv(r'C:\\Users\\paruc\\OneDrive\\Desktop\\Work\\TechnoHacks\\test.csv')"
   ]
  },
  {
   "cell_type": "code",
   "execution_count": 4,
   "id": "1d83f75d",
   "metadata": {},
   "outputs": [],
   "source": [
    "gender_submission = pd.read_csv(r'C:\\Users\\paruc\\OneDrive\\Desktop\\Work\\TechnoHacks\\gender_submission.csv')"
   ]
  },
  {
   "cell_type": "code",
   "execution_count": 5,
   "id": "98d9d929",
   "metadata": {},
   "outputs": [
    {
     "data": {
      "text/html": [
       "<div>\n",
       "<style scoped>\n",
       "    .dataframe tbody tr th:only-of-type {\n",
       "        vertical-align: middle;\n",
       "    }\n",
       "\n",
       "    .dataframe tbody tr th {\n",
       "        vertical-align: top;\n",
       "    }\n",
       "\n",
       "    .dataframe thead th {\n",
       "        text-align: right;\n",
       "    }\n",
       "</style>\n",
       "<table border=\"1\" class=\"dataframe\">\n",
       "  <thead>\n",
       "    <tr style=\"text-align: right;\">\n",
       "      <th></th>\n",
       "      <th>PassengerId</th>\n",
       "      <th>Survived</th>\n",
       "      <th>Pclass</th>\n",
       "      <th>Name</th>\n",
       "      <th>Sex</th>\n",
       "      <th>Age</th>\n",
       "      <th>SibSp</th>\n",
       "      <th>Parch</th>\n",
       "      <th>Ticket</th>\n",
       "      <th>Fare</th>\n",
       "      <th>Cabin</th>\n",
       "      <th>Embarked</th>\n",
       "    </tr>\n",
       "  </thead>\n",
       "  <tbody>\n",
       "    <tr>\n",
       "      <th>0</th>\n",
       "      <td>1</td>\n",
       "      <td>0</td>\n",
       "      <td>3</td>\n",
       "      <td>Braund, Mr. Owen Harris</td>\n",
       "      <td>male</td>\n",
       "      <td>22.0</td>\n",
       "      <td>1</td>\n",
       "      <td>0</td>\n",
       "      <td>A/5 21171</td>\n",
       "      <td>7.25</td>\n",
       "      <td>NaN</td>\n",
       "      <td>S</td>\n",
       "    </tr>\n",
       "  </tbody>\n",
       "</table>\n",
       "</div>"
      ],
      "text/plain": [
       "   PassengerId  Survived  Pclass                     Name   Sex   Age  SibSp  \\\n",
       "0            1         0       3  Braund, Mr. Owen Harris  male  22.0      1   \n",
       "\n",
       "   Parch     Ticket  Fare Cabin Embarked  \n",
       "0      0  A/5 21171  7.25   NaN        S  "
      ]
     },
     "execution_count": 5,
     "metadata": {},
     "output_type": "execute_result"
    }
   ],
   "source": [
    "titanic_train.head(1)"
   ]
  },
  {
   "cell_type": "code",
   "execution_count": 6,
   "id": "3d38c871",
   "metadata": {},
   "outputs": [
    {
     "data": {
      "text/html": [
       "<div>\n",
       "<style scoped>\n",
       "    .dataframe tbody tr th:only-of-type {\n",
       "        vertical-align: middle;\n",
       "    }\n",
       "\n",
       "    .dataframe tbody tr th {\n",
       "        vertical-align: top;\n",
       "    }\n",
       "\n",
       "    .dataframe thead th {\n",
       "        text-align: right;\n",
       "    }\n",
       "</style>\n",
       "<table border=\"1\" class=\"dataframe\">\n",
       "  <thead>\n",
       "    <tr style=\"text-align: right;\">\n",
       "      <th></th>\n",
       "      <th>PassengerId</th>\n",
       "      <th>Pclass</th>\n",
       "      <th>Name</th>\n",
       "      <th>Sex</th>\n",
       "      <th>Age</th>\n",
       "      <th>SibSp</th>\n",
       "      <th>Parch</th>\n",
       "      <th>Ticket</th>\n",
       "      <th>Fare</th>\n",
       "      <th>Cabin</th>\n",
       "      <th>Embarked</th>\n",
       "    </tr>\n",
       "  </thead>\n",
       "  <tbody>\n",
       "    <tr>\n",
       "      <th>0</th>\n",
       "      <td>892</td>\n",
       "      <td>3</td>\n",
       "      <td>Kelly, Mr. James</td>\n",
       "      <td>male</td>\n",
       "      <td>34.5</td>\n",
       "      <td>0</td>\n",
       "      <td>0</td>\n",
       "      <td>330911</td>\n",
       "      <td>7.8292</td>\n",
       "      <td>NaN</td>\n",
       "      <td>Q</td>\n",
       "    </tr>\n",
       "  </tbody>\n",
       "</table>\n",
       "</div>"
      ],
      "text/plain": [
       "   PassengerId  Pclass              Name   Sex   Age  SibSp  Parch  Ticket  \\\n",
       "0          892       3  Kelly, Mr. James  male  34.5      0      0  330911   \n",
       "\n",
       "     Fare Cabin Embarked  \n",
       "0  7.8292   NaN        Q  "
      ]
     },
     "execution_count": 6,
     "metadata": {},
     "output_type": "execute_result"
    }
   ],
   "source": [
    "titanic_test.head(1)"
   ]
  },
  {
   "cell_type": "code",
   "execution_count": 7,
   "id": "1cabf80e",
   "metadata": {},
   "outputs": [
    {
     "data": {
      "text/html": [
       "<div>\n",
       "<style scoped>\n",
       "    .dataframe tbody tr th:only-of-type {\n",
       "        vertical-align: middle;\n",
       "    }\n",
       "\n",
       "    .dataframe tbody tr th {\n",
       "        vertical-align: top;\n",
       "    }\n",
       "\n",
       "    .dataframe thead th {\n",
       "        text-align: right;\n",
       "    }\n",
       "</style>\n",
       "<table border=\"1\" class=\"dataframe\">\n",
       "  <thead>\n",
       "    <tr style=\"text-align: right;\">\n",
       "      <th></th>\n",
       "      <th>PassengerId</th>\n",
       "      <th>Survived</th>\n",
       "    </tr>\n",
       "  </thead>\n",
       "  <tbody>\n",
       "    <tr>\n",
       "      <th>0</th>\n",
       "      <td>892</td>\n",
       "      <td>0</td>\n",
       "    </tr>\n",
       "  </tbody>\n",
       "</table>\n",
       "</div>"
      ],
      "text/plain": [
       "   PassengerId  Survived\n",
       "0          892         0"
      ]
     },
     "execution_count": 7,
     "metadata": {},
     "output_type": "execute_result"
    }
   ],
   "source": [
    "gender_submission.head(1)"
   ]
  },
  {
   "cell_type": "markdown",
   "id": "e061b1cf",
   "metadata": {},
   "source": [
    "# Dropping irrelevant columns"
   ]
  },
  {
   "cell_type": "markdown",
   "id": "5ac1ce08",
   "metadata": {},
   "source": [
    "- Name, Ticket, PassengerId is irrelevant attributes so we can drop the attributes"
   ]
  },
  {
   "cell_type": "code",
   "execution_count": 8,
   "id": "d0c1d6ab",
   "metadata": {},
   "outputs": [],
   "source": [
    "titanic_train = titanic_train.drop(['Name', 'Ticket','PassengerId'], axis =1)"
   ]
  },
  {
   "cell_type": "code",
   "execution_count": 9,
   "id": "91265d4a",
   "metadata": {},
   "outputs": [
    {
     "data": {
      "text/html": [
       "<div>\n",
       "<style scoped>\n",
       "    .dataframe tbody tr th:only-of-type {\n",
       "        vertical-align: middle;\n",
       "    }\n",
       "\n",
       "    .dataframe tbody tr th {\n",
       "        vertical-align: top;\n",
       "    }\n",
       "\n",
       "    .dataframe thead th {\n",
       "        text-align: right;\n",
       "    }\n",
       "</style>\n",
       "<table border=\"1\" class=\"dataframe\">\n",
       "  <thead>\n",
       "    <tr style=\"text-align: right;\">\n",
       "      <th></th>\n",
       "      <th>Survived</th>\n",
       "      <th>Pclass</th>\n",
       "      <th>Sex</th>\n",
       "      <th>Age</th>\n",
       "      <th>SibSp</th>\n",
       "      <th>Parch</th>\n",
       "      <th>Fare</th>\n",
       "      <th>Cabin</th>\n",
       "      <th>Embarked</th>\n",
       "    </tr>\n",
       "  </thead>\n",
       "  <tbody>\n",
       "    <tr>\n",
       "      <th>0</th>\n",
       "      <td>0</td>\n",
       "      <td>3</td>\n",
       "      <td>male</td>\n",
       "      <td>22.0</td>\n",
       "      <td>1</td>\n",
       "      <td>0</td>\n",
       "      <td>7.25</td>\n",
       "      <td>NaN</td>\n",
       "      <td>S</td>\n",
       "    </tr>\n",
       "  </tbody>\n",
       "</table>\n",
       "</div>"
      ],
      "text/plain": [
       "   Survived  Pclass   Sex   Age  SibSp  Parch  Fare Cabin Embarked\n",
       "0         0       3  male  22.0      1      0  7.25   NaN        S"
      ]
     },
     "execution_count": 9,
     "metadata": {},
     "output_type": "execute_result"
    }
   ],
   "source": [
    "titanic_train.head(1)"
   ]
  },
  {
   "cell_type": "code",
   "execution_count": 10,
   "id": "aef03064",
   "metadata": {},
   "outputs": [],
   "source": [
    "titanic_test = titanic_test.drop(['Name', 'Ticket', 'PassengerId'], axis =1)"
   ]
  },
  {
   "cell_type": "code",
   "execution_count": 11,
   "id": "5c3855b0",
   "metadata": {},
   "outputs": [
    {
     "data": {
      "text/html": [
       "<div>\n",
       "<style scoped>\n",
       "    .dataframe tbody tr th:only-of-type {\n",
       "        vertical-align: middle;\n",
       "    }\n",
       "\n",
       "    .dataframe tbody tr th {\n",
       "        vertical-align: top;\n",
       "    }\n",
       "\n",
       "    .dataframe thead th {\n",
       "        text-align: right;\n",
       "    }\n",
       "</style>\n",
       "<table border=\"1\" class=\"dataframe\">\n",
       "  <thead>\n",
       "    <tr style=\"text-align: right;\">\n",
       "      <th></th>\n",
       "      <th>Pclass</th>\n",
       "      <th>Sex</th>\n",
       "      <th>Age</th>\n",
       "      <th>SibSp</th>\n",
       "      <th>Parch</th>\n",
       "      <th>Fare</th>\n",
       "      <th>Cabin</th>\n",
       "      <th>Embarked</th>\n",
       "    </tr>\n",
       "  </thead>\n",
       "  <tbody>\n",
       "    <tr>\n",
       "      <th>0</th>\n",
       "      <td>3</td>\n",
       "      <td>male</td>\n",
       "      <td>34.5</td>\n",
       "      <td>0</td>\n",
       "      <td>0</td>\n",
       "      <td>7.8292</td>\n",
       "      <td>NaN</td>\n",
       "      <td>Q</td>\n",
       "    </tr>\n",
       "  </tbody>\n",
       "</table>\n",
       "</div>"
      ],
      "text/plain": [
       "   Pclass   Sex   Age  SibSp  Parch    Fare Cabin Embarked\n",
       "0       3  male  34.5      0      0  7.8292   NaN        Q"
      ]
     },
     "execution_count": 11,
     "metadata": {},
     "output_type": "execute_result"
    }
   ],
   "source": [
    "titanic_test.head(1)"
   ]
  },
  {
   "cell_type": "markdown",
   "id": "09620a1c",
   "metadata": {},
   "source": [
    "# Information about data"
   ]
  },
  {
   "cell_type": "code",
   "execution_count": 12,
   "id": "50ddd179",
   "metadata": {},
   "outputs": [],
   "source": [
    "#!pip install sweetviz"
   ]
  },
  {
   "cell_type": "code",
   "execution_count": 13,
   "id": "015ee0c7",
   "metadata": {},
   "outputs": [],
   "source": [
    "#import sweetviz as sv\n",
    "\n",
    "#my_report = sv.analyze(titanic_train)\n",
    "#my_report.show_html(\"eda.html\")"
   ]
  },
  {
   "cell_type": "code",
   "execution_count": 14,
   "id": "690f8c97",
   "metadata": {},
   "outputs": [
    {
     "data": {
      "text/plain": [
       "'C:\\\\Users\\\\paruc\\\\Data Science\\\\TechnoHacks'"
      ]
     },
     "execution_count": 14,
     "metadata": {},
     "output_type": "execute_result"
    }
   ],
   "source": [
    "pwd"
   ]
  },
  {
   "cell_type": "code",
   "execution_count": 15,
   "id": "fa2c8708",
   "metadata": {},
   "outputs": [
    {
     "name": "stdout",
     "output_type": "stream",
     "text": [
      "Train data (891, 9)\n",
      "Test data (418, 8)\n"
     ]
    }
   ],
   "source": [
    "print('Train data {}'.format(titanic_train.shape))\n",
    "print('Test data {}'.format(titanic_test.shape))"
   ]
  },
  {
   "cell_type": "code",
   "execution_count": 16,
   "id": "50fc333e",
   "metadata": {},
   "outputs": [
    {
     "data": {
      "text/plain": [
       "Index(['Survived', 'Pclass', 'Sex', 'Age', 'SibSp', 'Parch', 'Fare', 'Cabin',\n",
       "       'Embarked'],\n",
       "      dtype='object')"
      ]
     },
     "execution_count": 16,
     "metadata": {},
     "output_type": "execute_result"
    }
   ],
   "source": [
    "tr = titanic_train.columns\n",
    "tr"
   ]
  },
  {
   "cell_type": "code",
   "execution_count": 17,
   "id": "d4ec9272",
   "metadata": {},
   "outputs": [
    {
     "data": {
      "text/plain": [
       "Index(['Pclass', 'Sex', 'Age', 'SibSp', 'Parch', 'Fare', 'Cabin', 'Embarked'], dtype='object')"
      ]
     },
     "execution_count": 17,
     "metadata": {},
     "output_type": "execute_result"
    }
   ],
   "source": [
    "ts = titanic_test.columns\n",
    "ts"
   ]
  },
  {
   "cell_type": "code",
   "execution_count": 18,
   "id": "ed7f1b17",
   "metadata": {},
   "outputs": [
    {
     "data": {
      "text/plain": [
       "8"
      ]
     },
     "execution_count": 18,
     "metadata": {},
     "output_type": "execute_result"
    }
   ],
   "source": [
    "com = tr.intersection(ts)\n",
    "len(com)"
   ]
  },
  {
   "cell_type": "code",
   "execution_count": 19,
   "id": "39cc57bc",
   "metadata": {},
   "outputs": [
    {
     "name": "stdout",
     "output_type": "stream",
     "text": [
      "<class 'pandas.core.frame.DataFrame'>\n",
      "RangeIndex: 891 entries, 0 to 890\n",
      "Data columns (total 9 columns):\n",
      " #   Column    Non-Null Count  Dtype  \n",
      "---  ------    --------------  -----  \n",
      " 0   Survived  891 non-null    int64  \n",
      " 1   Pclass    891 non-null    int64  \n",
      " 2   Sex       891 non-null    object \n",
      " 3   Age       714 non-null    float64\n",
      " 4   SibSp     891 non-null    int64  \n",
      " 5   Parch     891 non-null    int64  \n",
      " 6   Fare      891 non-null    float64\n",
      " 7   Cabin     204 non-null    object \n",
      " 8   Embarked  889 non-null    object \n",
      "dtypes: float64(2), int64(4), object(3)\n",
      "memory usage: 62.8+ KB\n"
     ]
    }
   ],
   "source": [
    "titanic_train.info()"
   ]
  },
  {
   "cell_type": "code",
   "execution_count": 20,
   "id": "4a0aa25b",
   "metadata": {},
   "outputs": [
    {
     "data": {
      "text/html": [
       "<div>\n",
       "<style scoped>\n",
       "    .dataframe tbody tr th:only-of-type {\n",
       "        vertical-align: middle;\n",
       "    }\n",
       "\n",
       "    .dataframe tbody tr th {\n",
       "        vertical-align: top;\n",
       "    }\n",
       "\n",
       "    .dataframe thead th {\n",
       "        text-align: right;\n",
       "    }\n",
       "</style>\n",
       "<table border=\"1\" class=\"dataframe\">\n",
       "  <thead>\n",
       "    <tr style=\"text-align: right;\">\n",
       "      <th></th>\n",
       "      <th>Survived</th>\n",
       "      <th>Pclass</th>\n",
       "      <th>Age</th>\n",
       "      <th>SibSp</th>\n",
       "      <th>Parch</th>\n",
       "      <th>Fare</th>\n",
       "    </tr>\n",
       "  </thead>\n",
       "  <tbody>\n",
       "    <tr>\n",
       "      <th>count</th>\n",
       "      <td>891.000000</td>\n",
       "      <td>891.000000</td>\n",
       "      <td>714.000000</td>\n",
       "      <td>891.000000</td>\n",
       "      <td>891.000000</td>\n",
       "      <td>891.000000</td>\n",
       "    </tr>\n",
       "    <tr>\n",
       "      <th>mean</th>\n",
       "      <td>0.383838</td>\n",
       "      <td>2.308642</td>\n",
       "      <td>29.699118</td>\n",
       "      <td>0.523008</td>\n",
       "      <td>0.381594</td>\n",
       "      <td>32.204208</td>\n",
       "    </tr>\n",
       "    <tr>\n",
       "      <th>std</th>\n",
       "      <td>0.486592</td>\n",
       "      <td>0.836071</td>\n",
       "      <td>14.526497</td>\n",
       "      <td>1.102743</td>\n",
       "      <td>0.806057</td>\n",
       "      <td>49.693429</td>\n",
       "    </tr>\n",
       "    <tr>\n",
       "      <th>min</th>\n",
       "      <td>0.000000</td>\n",
       "      <td>1.000000</td>\n",
       "      <td>0.420000</td>\n",
       "      <td>0.000000</td>\n",
       "      <td>0.000000</td>\n",
       "      <td>0.000000</td>\n",
       "    </tr>\n",
       "    <tr>\n",
       "      <th>25%</th>\n",
       "      <td>0.000000</td>\n",
       "      <td>2.000000</td>\n",
       "      <td>20.125000</td>\n",
       "      <td>0.000000</td>\n",
       "      <td>0.000000</td>\n",
       "      <td>7.910400</td>\n",
       "    </tr>\n",
       "    <tr>\n",
       "      <th>50%</th>\n",
       "      <td>0.000000</td>\n",
       "      <td>3.000000</td>\n",
       "      <td>28.000000</td>\n",
       "      <td>0.000000</td>\n",
       "      <td>0.000000</td>\n",
       "      <td>14.454200</td>\n",
       "    </tr>\n",
       "    <tr>\n",
       "      <th>75%</th>\n",
       "      <td>1.000000</td>\n",
       "      <td>3.000000</td>\n",
       "      <td>38.000000</td>\n",
       "      <td>1.000000</td>\n",
       "      <td>0.000000</td>\n",
       "      <td>31.000000</td>\n",
       "    </tr>\n",
       "    <tr>\n",
       "      <th>max</th>\n",
       "      <td>1.000000</td>\n",
       "      <td>3.000000</td>\n",
       "      <td>80.000000</td>\n",
       "      <td>8.000000</td>\n",
       "      <td>6.000000</td>\n",
       "      <td>512.329200</td>\n",
       "    </tr>\n",
       "  </tbody>\n",
       "</table>\n",
       "</div>"
      ],
      "text/plain": [
       "         Survived      Pclass         Age       SibSp       Parch        Fare\n",
       "count  891.000000  891.000000  714.000000  891.000000  891.000000  891.000000\n",
       "mean     0.383838    2.308642   29.699118    0.523008    0.381594   32.204208\n",
       "std      0.486592    0.836071   14.526497    1.102743    0.806057   49.693429\n",
       "min      0.000000    1.000000    0.420000    0.000000    0.000000    0.000000\n",
       "25%      0.000000    2.000000   20.125000    0.000000    0.000000    7.910400\n",
       "50%      0.000000    3.000000   28.000000    0.000000    0.000000   14.454200\n",
       "75%      1.000000    3.000000   38.000000    1.000000    0.000000   31.000000\n",
       "max      1.000000    3.000000   80.000000    8.000000    6.000000  512.329200"
      ]
     },
     "execution_count": 20,
     "metadata": {},
     "output_type": "execute_result"
    }
   ],
   "source": [
    "titanic_train.describe()"
   ]
  },
  {
   "cell_type": "code",
   "execution_count": 21,
   "id": "4544fc84",
   "metadata": {},
   "outputs": [
    {
     "data": {
      "text/plain": [
       "Survived      int64\n",
       "Pclass        int64\n",
       "Sex          object\n",
       "Age         float64\n",
       "SibSp         int64\n",
       "Parch         int64\n",
       "Fare        float64\n",
       "Cabin        object\n",
       "Embarked     object\n",
       "dtype: object"
      ]
     },
     "execution_count": 21,
     "metadata": {},
     "output_type": "execute_result"
    }
   ],
   "source": [
    "titanic_train.dtypes"
   ]
  },
  {
   "cell_type": "code",
   "execution_count": 22,
   "id": "623128fc",
   "metadata": {},
   "outputs": [
    {
     "data": {
      "text/html": [
       "<div>\n",
       "<style scoped>\n",
       "    .dataframe tbody tr th:only-of-type {\n",
       "        vertical-align: middle;\n",
       "    }\n",
       "\n",
       "    .dataframe tbody tr th {\n",
       "        vertical-align: top;\n",
       "    }\n",
       "\n",
       "    .dataframe thead th {\n",
       "        text-align: right;\n",
       "    }\n",
       "</style>\n",
       "<table border=\"1\" class=\"dataframe\">\n",
       "  <thead>\n",
       "    <tr style=\"text-align: right;\">\n",
       "      <th></th>\n",
       "      <th>Pclass</th>\n",
       "      <th>Age</th>\n",
       "      <th>SibSp</th>\n",
       "      <th>Parch</th>\n",
       "      <th>Fare</th>\n",
       "    </tr>\n",
       "  </thead>\n",
       "  <tbody>\n",
       "    <tr>\n",
       "      <th>count</th>\n",
       "      <td>418.000000</td>\n",
       "      <td>332.000000</td>\n",
       "      <td>418.000000</td>\n",
       "      <td>418.000000</td>\n",
       "      <td>417.000000</td>\n",
       "    </tr>\n",
       "    <tr>\n",
       "      <th>mean</th>\n",
       "      <td>2.265550</td>\n",
       "      <td>30.272590</td>\n",
       "      <td>0.447368</td>\n",
       "      <td>0.392344</td>\n",
       "      <td>35.627188</td>\n",
       "    </tr>\n",
       "    <tr>\n",
       "      <th>std</th>\n",
       "      <td>0.841838</td>\n",
       "      <td>14.181209</td>\n",
       "      <td>0.896760</td>\n",
       "      <td>0.981429</td>\n",
       "      <td>55.907576</td>\n",
       "    </tr>\n",
       "    <tr>\n",
       "      <th>min</th>\n",
       "      <td>1.000000</td>\n",
       "      <td>0.170000</td>\n",
       "      <td>0.000000</td>\n",
       "      <td>0.000000</td>\n",
       "      <td>0.000000</td>\n",
       "    </tr>\n",
       "    <tr>\n",
       "      <th>25%</th>\n",
       "      <td>1.000000</td>\n",
       "      <td>21.000000</td>\n",
       "      <td>0.000000</td>\n",
       "      <td>0.000000</td>\n",
       "      <td>7.895800</td>\n",
       "    </tr>\n",
       "    <tr>\n",
       "      <th>50%</th>\n",
       "      <td>3.000000</td>\n",
       "      <td>27.000000</td>\n",
       "      <td>0.000000</td>\n",
       "      <td>0.000000</td>\n",
       "      <td>14.454200</td>\n",
       "    </tr>\n",
       "    <tr>\n",
       "      <th>75%</th>\n",
       "      <td>3.000000</td>\n",
       "      <td>39.000000</td>\n",
       "      <td>1.000000</td>\n",
       "      <td>0.000000</td>\n",
       "      <td>31.500000</td>\n",
       "    </tr>\n",
       "    <tr>\n",
       "      <th>max</th>\n",
       "      <td>3.000000</td>\n",
       "      <td>76.000000</td>\n",
       "      <td>8.000000</td>\n",
       "      <td>9.000000</td>\n",
       "      <td>512.329200</td>\n",
       "    </tr>\n",
       "  </tbody>\n",
       "</table>\n",
       "</div>"
      ],
      "text/plain": [
       "           Pclass         Age       SibSp       Parch        Fare\n",
       "count  418.000000  332.000000  418.000000  418.000000  417.000000\n",
       "mean     2.265550   30.272590    0.447368    0.392344   35.627188\n",
       "std      0.841838   14.181209    0.896760    0.981429   55.907576\n",
       "min      1.000000    0.170000    0.000000    0.000000    0.000000\n",
       "25%      1.000000   21.000000    0.000000    0.000000    7.895800\n",
       "50%      3.000000   27.000000    0.000000    0.000000   14.454200\n",
       "75%      3.000000   39.000000    1.000000    0.000000   31.500000\n",
       "max      3.000000   76.000000    8.000000    9.000000  512.329200"
      ]
     },
     "execution_count": 22,
     "metadata": {},
     "output_type": "execute_result"
    }
   ],
   "source": [
    "titanic_test.describe()"
   ]
  },
  {
   "cell_type": "code",
   "execution_count": 23,
   "id": "280703df",
   "metadata": {},
   "outputs": [
    {
     "data": {
      "text/plain": [
       "Pclass        int64\n",
       "Sex          object\n",
       "Age         float64\n",
       "SibSp         int64\n",
       "Parch         int64\n",
       "Fare        float64\n",
       "Cabin        object\n",
       "Embarked     object\n",
       "dtype: object"
      ]
     },
     "execution_count": 23,
     "metadata": {},
     "output_type": "execute_result"
    }
   ],
   "source": [
    "titanic_test.dtypes"
   ]
  },
  {
   "cell_type": "code",
   "execution_count": 24,
   "id": "1d8513b2",
   "metadata": {},
   "outputs": [
    {
     "name": "stdout",
     "output_type": "stream",
     "text": [
      "<class 'pandas.core.frame.DataFrame'>\n",
      "RangeIndex: 418 entries, 0 to 417\n",
      "Data columns (total 8 columns):\n",
      " #   Column    Non-Null Count  Dtype  \n",
      "---  ------    --------------  -----  \n",
      " 0   Pclass    418 non-null    int64  \n",
      " 1   Sex       418 non-null    object \n",
      " 2   Age       332 non-null    float64\n",
      " 3   SibSp     418 non-null    int64  \n",
      " 4   Parch     418 non-null    int64  \n",
      " 5   Fare      417 non-null    float64\n",
      " 6   Cabin     91 non-null     object \n",
      " 7   Embarked  418 non-null    object \n",
      "dtypes: float64(2), int64(3), object(3)\n",
      "memory usage: 26.3+ KB\n"
     ]
    }
   ],
   "source": [
    "titanic_test.info()"
   ]
  },
  {
   "cell_type": "code",
   "execution_count": 25,
   "id": "5ab5456d",
   "metadata": {},
   "outputs": [
    {
     "name": "stdout",
     "output_type": "stream",
     "text": [
      "<class 'pandas.core.frame.DataFrame'>\n",
      "RangeIndex: 418 entries, 0 to 417\n",
      "Data columns (total 2 columns):\n",
      " #   Column       Non-Null Count  Dtype\n",
      "---  ------       --------------  -----\n",
      " 0   PassengerId  418 non-null    int64\n",
      " 1   Survived     418 non-null    int64\n",
      "dtypes: int64(2)\n",
      "memory usage: 6.7 KB\n"
     ]
    }
   ],
   "source": [
    "gender_submission.info()"
   ]
  },
  {
   "cell_type": "code",
   "execution_count": 26,
   "id": "48fed238",
   "metadata": {},
   "outputs": [
    {
     "data": {
      "text/plain": [
       "Index(['PassengerId', 'Survived'], dtype='object')"
      ]
     },
     "execution_count": 26,
     "metadata": {},
     "output_type": "execute_result"
    }
   ],
   "source": [
    "gender_submission.columns"
   ]
  },
  {
   "cell_type": "code",
   "execution_count": 27,
   "id": "998f428c",
   "metadata": {},
   "outputs": [
    {
     "data": {
      "text/plain": [
       "PassengerId    0\n",
       "Survived       0\n",
       "dtype: int64"
      ]
     },
     "execution_count": 27,
     "metadata": {},
     "output_type": "execute_result"
    }
   ],
   "source": [
    "gender_submission.isnull().sum()"
   ]
  },
  {
   "cell_type": "markdown",
   "id": "b8d43ab6",
   "metadata": {},
   "source": [
    "# Calculating null values Percentage"
   ]
  },
  {
   "cell_type": "code",
   "execution_count": 28,
   "id": "3f6f100a",
   "metadata": {},
   "outputs": [
    {
     "data": {
      "text/plain": [
       "Survived     0.0\n",
       "Pclass       0.0\n",
       "Sex          0.0\n",
       "Age         20.0\n",
       "SibSp        0.0\n",
       "Parch        0.0\n",
       "Fare         0.0\n",
       "Cabin       77.0\n",
       "Embarked     0.0\n",
       "dtype: float64"
      ]
     },
     "execution_count": 28,
     "metadata": {},
     "output_type": "execute_result"
    }
   ],
   "source": [
    "round(titanic_train.isnull().sum()/ titanic_train.shape[0]*100)"
   ]
  },
  {
   "cell_type": "code",
   "execution_count": 29,
   "id": "191e83b5",
   "metadata": {},
   "outputs": [],
   "source": [
    "null_titanic_train = pd.DataFrame(titanic_train.isnull().sum()* 100/titanic_train.shape[0]).reset_index()\n",
    "null_titanic_train.columns = ['Columns','Null Values Percentage']"
   ]
  },
  {
   "cell_type": "code",
   "execution_count": 30,
   "id": "cb6effd7",
   "metadata": {},
   "outputs": [
    {
     "data": {
      "image/png": "[encoded data removed]",
      "text/plain": [
       "<Figure size 640x480 with 1 Axes>"
      ]
     },
     "metadata": {},
     "output_type": "display_data"
    }
   ],
   "source": [
    "ax = sns.pointplot(x = 'Columns',y = 'Null Values Percentage', data = null_titanic_train, color = 'blue')\n",
    "ax.axhline(40, ls='--',color='red')\n",
    "plt.title(\"Percentage of Missing values in train data\")\n",
    "plt.ylabel(\"Null Values PERCENTAGE\")\n",
    "plt.xlabel(\"COLUMNS\")\n",
    "plt.show()"
   ]
  },
  {
   "cell_type": "code",
   "execution_count": 31,
   "id": "82cddccc",
   "metadata": {},
   "outputs": [
    {
     "data": {
      "text/plain": [
       "Pclass       0.0\n",
       "Sex          0.0\n",
       "Age         21.0\n",
       "SibSp        0.0\n",
       "Parch        0.0\n",
       "Fare         0.0\n",
       "Cabin       78.0\n",
       "Embarked     0.0\n",
       "dtype: float64"
      ]
     },
     "execution_count": 31,
     "metadata": {},
     "output_type": "execute_result"
    }
   ],
   "source": [
    "round(titanic_test.isnull().sum()/ titanic_test.shape[0]*100)"
   ]
  },
  {
   "cell_type": "code",
   "execution_count": 32,
   "id": "39b9743e",
   "metadata": {},
   "outputs": [],
   "source": [
    "null_titanic_test = pd.DataFrame(titanic_test.isnull().sum()* 100/titanic_test.shape[0]).reset_index()\n",
    "null_titanic_test.columns = ['Columns','Null Values Percentage']"
   ]
  },
  {
   "cell_type": "code",
   "execution_count": 33,
   "id": "0bb6e9db",
   "metadata": {},
   "outputs": [
    {
     "data": {
      "image/png": "[encoded data removed]",
      "text/plain": [
       "<Figure size 640x480 with 1 Axes>"
      ]
     },
     "metadata": {},
     "output_type": "display_data"
    }
   ],
   "source": [
    "ax = sns.pointplot(x = 'Columns',y = 'Null Values Percentage', data = null_titanic_train, color = 'blue')\n",
    "ax.axhline(40, ls='--',color='red')\n",
    "plt.title(\"Percentage of Missing values in test data\")\n",
    "plt.ylabel(\"Null Values PERCENTAGE\")\n",
    "plt.xlabel(\"COLUMNS\")\n",
    "plt.show()"
   ]
  },
  {
   "cell_type": "markdown",
   "id": "011c0486",
   "metadata": {},
   "source": [
    "- Dropping Cabin in train and test dataset because it had more 60% of null values"
   ]
  },
  {
   "cell_type": "code",
   "execution_count": 34,
   "id": "86804035",
   "metadata": {},
   "outputs": [],
   "source": [
    "titanic_train = titanic_train.drop(['Cabin'], axis = 1)"
   ]
  },
  {
   "cell_type": "code",
   "execution_count": 35,
   "id": "94027dd0",
   "metadata": {},
   "outputs": [],
   "source": [
    "titanic_test = titanic_test.drop(['Cabin'], axis = 1)"
   ]
  },
  {
   "cell_type": "code",
   "execution_count": 36,
   "id": "f52eb14a",
   "metadata": {},
   "outputs": [
    {
     "data": {
      "text/html": [
       "<div>\n",
       "<style scoped>\n",
       "    .dataframe tbody tr th:only-of-type {\n",
       "        vertical-align: middle;\n",
       "    }\n",
       "\n",
       "    .dataframe tbody tr th {\n",
       "        vertical-align: top;\n",
       "    }\n",
       "\n",
       "    .dataframe thead th {\n",
       "        text-align: right;\n",
       "    }\n",
       "</style>\n",
       "<table border=\"1\" class=\"dataframe\">\n",
       "  <thead>\n",
       "    <tr style=\"text-align: right;\">\n",
       "      <th></th>\n",
       "      <th>Survived</th>\n",
       "      <th>Pclass</th>\n",
       "      <th>Sex</th>\n",
       "      <th>Age</th>\n",
       "      <th>SibSp</th>\n",
       "      <th>Parch</th>\n",
       "      <th>Fare</th>\n",
       "      <th>Embarked</th>\n",
       "    </tr>\n",
       "  </thead>\n",
       "  <tbody>\n",
       "    <tr>\n",
       "      <th>0</th>\n",
       "      <td>0</td>\n",
       "      <td>3</td>\n",
       "      <td>male</td>\n",
       "      <td>22.0</td>\n",
       "      <td>1</td>\n",
       "      <td>0</td>\n",
       "      <td>7.25</td>\n",
       "      <td>S</td>\n",
       "    </tr>\n",
       "  </tbody>\n",
       "</table>\n",
       "</div>"
      ],
      "text/plain": [
       "   Survived  Pclass   Sex   Age  SibSp  Parch  Fare Embarked\n",
       "0         0       3  male  22.0      1      0  7.25        S"
      ]
     },
     "execution_count": 36,
     "metadata": {},
     "output_type": "execute_result"
    }
   ],
   "source": [
    "titanic_train.head(1)"
   ]
  },
  {
   "cell_type": "code",
   "execution_count": 37,
   "id": "aa05541f",
   "metadata": {},
   "outputs": [
    {
     "data": {
      "text/html": [
       "<div>\n",
       "<style scoped>\n",
       "    .dataframe tbody tr th:only-of-type {\n",
       "        vertical-align: middle;\n",
       "    }\n",
       "\n",
       "    .dataframe tbody tr th {\n",
       "        vertical-align: top;\n",
       "    }\n",
       "\n",
       "    .dataframe thead th {\n",
       "        text-align: right;\n",
       "    }\n",
       "</style>\n",
       "<table border=\"1\" class=\"dataframe\">\n",
       "  <thead>\n",
       "    <tr style=\"text-align: right;\">\n",
       "      <th></th>\n",
       "      <th>Pclass</th>\n",
       "      <th>Sex</th>\n",
       "      <th>Age</th>\n",
       "      <th>SibSp</th>\n",
       "      <th>Parch</th>\n",
       "      <th>Fare</th>\n",
       "      <th>Embarked</th>\n",
       "    </tr>\n",
       "  </thead>\n",
       "  <tbody>\n",
       "    <tr>\n",
       "      <th>0</th>\n",
       "      <td>3</td>\n",
       "      <td>male</td>\n",
       "      <td>34.5</td>\n",
       "      <td>0</td>\n",
       "      <td>0</td>\n",
       "      <td>7.8292</td>\n",
       "      <td>Q</td>\n",
       "    </tr>\n",
       "  </tbody>\n",
       "</table>\n",
       "</div>"
      ],
      "text/plain": [
       "   Pclass   Sex   Age  SibSp  Parch    Fare Embarked\n",
       "0       3  male  34.5      0      0  7.8292        Q"
      ]
     },
     "execution_count": 37,
     "metadata": {},
     "output_type": "execute_result"
    }
   ],
   "source": [
    "titanic_test.head(1)"
   ]
  },
  {
   "cell_type": "markdown",
   "id": "9f4ec840",
   "metadata": {},
   "source": [
    "# Handling missing values  - Training data"
   ]
  },
  {
   "cell_type": "markdown",
   "id": "22b55810",
   "metadata": {},
   "source": [
    "- Age - float type(By changing this column to groups and filled by most frequent values based on survived column)\n",
    "- Cabin - object type(Dropping this column because it had more 60% of null values)\n",
    "- Fare - object type(dropped rows by using dropna because it has only 2 missing values)"
   ]
  },
  {
   "cell_type": "code",
   "execution_count": 38,
   "id": "66bf80f0",
   "metadata": {},
   "outputs": [
    {
     "data": {
      "text/plain": [
       "Survived      0\n",
       "Pclass        0\n",
       "Sex           0\n",
       "Age         177\n",
       "SibSp         0\n",
       "Parch         0\n",
       "Fare          0\n",
       "Embarked      2\n",
       "dtype: int64"
      ]
     },
     "execution_count": 38,
     "metadata": {},
     "output_type": "execute_result"
    }
   ],
   "source": [
    "titanic_train.isnull().sum()"
   ]
  },
  {
   "cell_type": "code",
   "execution_count": 39,
   "id": "d218e3d7",
   "metadata": {},
   "outputs": [
    {
     "data": {
      "text/plain": [
       "Age\n",
       "24.00    30\n",
       "22.00    27\n",
       "18.00    26\n",
       "19.00    25\n",
       "28.00    25\n",
       "         ..\n",
       "36.50     1\n",
       "55.50     1\n",
       "0.92      1\n",
       "23.50     1\n",
       "74.00     1\n",
       "Name: count, Length: 88, dtype: int64"
      ]
     },
     "execution_count": 39,
     "metadata": {},
     "output_type": "execute_result"
    }
   ],
   "source": [
    "titanic_train['Age'].value_counts()"
   ]
  },
  {
   "cell_type": "code",
   "execution_count": 40,
   "id": "a123c4cf",
   "metadata": {},
   "outputs": [
    {
     "data": {
      "text/plain": [
       "0.42"
      ]
     },
     "execution_count": 40,
     "metadata": {},
     "output_type": "execute_result"
    }
   ],
   "source": [
    "titanic_train['Age'].min()"
   ]
  },
  {
   "cell_type": "code",
   "execution_count": 41,
   "id": "643eaa3f",
   "metadata": {},
   "outputs": [],
   "source": [
    "a=titanic_train['Age'].to_list()"
   ]
  },
  {
   "cell_type": "code",
   "execution_count": 42,
   "id": "867a7d7c",
   "metadata": {},
   "outputs": [],
   "source": [
    "def categorize_age(age):\n",
    "    if 1 <= age <= 12:\n",
    "        return 'Child'\n",
    "    elif 12 < age <= 18:\n",
    "        return 'Immature'\n",
    "    elif 18 < age <= 30:\n",
    "        return 'Adult'\n",
    "    elif 30 < age <= 50:\n",
    "        return 'Mid senior'\n",
    "    elif 50 < age <= 80:\n",
    "        return 'Senior'\n",
    "\n",
    "# Apply the function to the 'age' column\n",
    "titanic_train['age_category'] = titanic_train['Age'].apply(categorize_age)"
   ]
  },
  {
   "cell_type": "code",
   "execution_count": 43,
   "id": "7879d4a6",
   "metadata": {},
   "outputs": [
    {
     "data": {
      "text/html": [
       "<div>\n",
       "<style scoped>\n",
       "    .dataframe tbody tr th:only-of-type {\n",
       "        vertical-align: middle;\n",
       "    }\n",
       "\n",
       "    .dataframe tbody tr th {\n",
       "        vertical-align: top;\n",
       "    }\n",
       "\n",
       "    .dataframe thead th {\n",
       "        text-align: right;\n",
       "    }\n",
       "</style>\n",
       "<table border=\"1\" class=\"dataframe\">\n",
       "  <thead>\n",
       "    <tr style=\"text-align: right;\">\n",
       "      <th></th>\n",
       "      <th>Survived</th>\n",
       "      <th>Pclass</th>\n",
       "      <th>Sex</th>\n",
       "      <th>Age</th>\n",
       "      <th>SibSp</th>\n",
       "      <th>Parch</th>\n",
       "      <th>Fare</th>\n",
       "      <th>Embarked</th>\n",
       "      <th>age_category</th>\n",
       "    </tr>\n",
       "  </thead>\n",
       "  <tbody>\n",
       "    <tr>\n",
       "      <th>0</th>\n",
       "      <td>0</td>\n",
       "      <td>3</td>\n",
       "      <td>male</td>\n",
       "      <td>22.0</td>\n",
       "      <td>1</td>\n",
       "      <td>0</td>\n",
       "      <td>7.25</td>\n",
       "      <td>S</td>\n",
       "      <td>Adult</td>\n",
       "    </tr>\n",
       "  </tbody>\n",
       "</table>\n",
       "</div>"
      ],
      "text/plain": [
       "   Survived  Pclass   Sex   Age  SibSp  Parch  Fare Embarked age_category\n",
       "0         0       3  male  22.0      1      0  7.25        S        Adult"
      ]
     },
     "execution_count": 43,
     "metadata": {},
     "output_type": "execute_result"
    }
   ],
   "source": [
    "# Display the DataFrame\n",
    "titanic_train.head(1)"
   ]
  },
  {
   "cell_type": "code",
   "execution_count": 44,
   "id": "868db45f",
   "metadata": {},
   "outputs": [
    {
     "data": {
      "text/plain": [
       "age_category\n",
       "Adult         270\n",
       "Mid senior    241\n",
       "Immature       70\n",
       "Senior         64\n",
       "Child          62\n",
       "Name: count, dtype: int64"
      ]
     },
     "execution_count": 44,
     "metadata": {},
     "output_type": "execute_result"
    }
   ],
   "source": [
    "titanic_train['age_category'].value_counts()"
   ]
  },
  {
   "cell_type": "code",
   "execution_count": 45,
   "id": "946e037e",
   "metadata": {},
   "outputs": [
    {
     "data": {
      "text/plain": [
       "184"
      ]
     },
     "execution_count": 45,
     "metadata": {},
     "output_type": "execute_result"
    }
   ],
   "source": [
    "titanic_train['age_category'].isnull().sum()"
   ]
  },
  {
   "cell_type": "code",
   "execution_count": 46,
   "id": "bbdbdca7",
   "metadata": {},
   "outputs": [
    {
     "data": {
      "text/html": [
       "<div>\n",
       "<style scoped>\n",
       "    .dataframe tbody tr th:only-of-type {\n",
       "        vertical-align: middle;\n",
       "    }\n",
       "\n",
       "    .dataframe tbody tr th {\n",
       "        vertical-align: top;\n",
       "    }\n",
       "\n",
       "    .dataframe thead th {\n",
       "        text-align: right;\n",
       "    }\n",
       "</style>\n",
       "<table border=\"1\" class=\"dataframe\">\n",
       "  <thead>\n",
       "    <tr style=\"text-align: right;\">\n",
       "      <th>Survived</th>\n",
       "      <th>0</th>\n",
       "      <th>1</th>\n",
       "      <th>All</th>\n",
       "    </tr>\n",
       "    <tr>\n",
       "      <th>age_category</th>\n",
       "      <th></th>\n",
       "      <th></th>\n",
       "      <th></th>\n",
       "    </tr>\n",
       "  </thead>\n",
       "  <tbody>\n",
       "    <tr>\n",
       "      <th>Adult</th>\n",
       "      <td>174</td>\n",
       "      <td>96</td>\n",
       "      <td>270</td>\n",
       "    </tr>\n",
       "    <tr>\n",
       "      <th>Child</th>\n",
       "      <td>29</td>\n",
       "      <td>33</td>\n",
       "      <td>62</td>\n",
       "    </tr>\n",
       "    <tr>\n",
       "      <th>Immature</th>\n",
       "      <td>40</td>\n",
       "      <td>30</td>\n",
       "      <td>70</td>\n",
       "    </tr>\n",
       "    <tr>\n",
       "      <th>Mid senior</th>\n",
       "      <td>139</td>\n",
       "      <td>102</td>\n",
       "      <td>241</td>\n",
       "    </tr>\n",
       "    <tr>\n",
       "      <th>Senior</th>\n",
       "      <td>42</td>\n",
       "      <td>22</td>\n",
       "      <td>64</td>\n",
       "    </tr>\n",
       "    <tr>\n",
       "      <th>All</th>\n",
       "      <td>424</td>\n",
       "      <td>283</td>\n",
       "      <td>707</td>\n",
       "    </tr>\n",
       "  </tbody>\n",
       "</table>\n",
       "</div>"
      ],
      "text/plain": [
       "Survived        0    1  All\n",
       "age_category               \n",
       "Adult         174   96  270\n",
       "Child          29   33   62\n",
       "Immature       40   30   70\n",
       "Mid senior    139  102  241\n",
       "Senior         42   22   64\n",
       "All           424  283  707"
      ]
     },
     "execution_count": 46,
     "metadata": {},
     "output_type": "execute_result"
    }
   ],
   "source": [
    "pd.crosstab(titanic_train['age_category'],titanic_train['Survived'],margins=True)"
   ]
  },
  {
   "cell_type": "code",
   "execution_count": 47,
   "id": "189af358",
   "metadata": {},
   "outputs": [],
   "source": [
    "titanic_train['age_category']=np.where(titanic_train['age_category'].isnull()==True,\"Unknown\",titanic_train['age_category'])"
   ]
  },
  {
   "cell_type": "code",
   "execution_count": 48,
   "id": "0be3e4aa",
   "metadata": {},
   "outputs": [
    {
     "data": {
      "text/html": [
       "<div>\n",
       "<style scoped>\n",
       "    .dataframe tbody tr th:only-of-type {\n",
       "        vertical-align: middle;\n",
       "    }\n",
       "\n",
       "    .dataframe tbody tr th {\n",
       "        vertical-align: top;\n",
       "    }\n",
       "\n",
       "    .dataframe thead th {\n",
       "        text-align: right;\n",
       "    }\n",
       "</style>\n",
       "<table border=\"1\" class=\"dataframe\">\n",
       "  <thead>\n",
       "    <tr style=\"text-align: right;\">\n",
       "      <th>Survived</th>\n",
       "      <th>0</th>\n",
       "      <th>1</th>\n",
       "      <th>All</th>\n",
       "    </tr>\n",
       "    <tr>\n",
       "      <th>age_category</th>\n",
       "      <th></th>\n",
       "      <th></th>\n",
       "      <th></th>\n",
       "    </tr>\n",
       "  </thead>\n",
       "  <tbody>\n",
       "    <tr>\n",
       "      <th>Adult</th>\n",
       "      <td>174</td>\n",
       "      <td>96</td>\n",
       "      <td>270</td>\n",
       "    </tr>\n",
       "    <tr>\n",
       "      <th>Child</th>\n",
       "      <td>29</td>\n",
       "      <td>33</td>\n",
       "      <td>62</td>\n",
       "    </tr>\n",
       "    <tr>\n",
       "      <th>Immature</th>\n",
       "      <td>40</td>\n",
       "      <td>30</td>\n",
       "      <td>70</td>\n",
       "    </tr>\n",
       "    <tr>\n",
       "      <th>Mid senior</th>\n",
       "      <td>139</td>\n",
       "      <td>102</td>\n",
       "      <td>241</td>\n",
       "    </tr>\n",
       "    <tr>\n",
       "      <th>Senior</th>\n",
       "      <td>42</td>\n",
       "      <td>22</td>\n",
       "      <td>64</td>\n",
       "    </tr>\n",
       "    <tr>\n",
       "      <th>Unknown</th>\n",
       "      <td>125</td>\n",
       "      <td>59</td>\n",
       "      <td>184</td>\n",
       "    </tr>\n",
       "    <tr>\n",
       "      <th>All</th>\n",
       "      <td>549</td>\n",
       "      <td>342</td>\n",
       "      <td>891</td>\n",
       "    </tr>\n",
       "  </tbody>\n",
       "</table>\n",
       "</div>"
      ],
      "text/plain": [
       "Survived        0    1  All\n",
       "age_category               \n",
       "Adult         174   96  270\n",
       "Child          29   33   62\n",
       "Immature       40   30   70\n",
       "Mid senior    139  102  241\n",
       "Senior         42   22   64\n",
       "Unknown       125   59  184\n",
       "All           549  342  891"
      ]
     },
     "execution_count": 48,
     "metadata": {},
     "output_type": "execute_result"
    }
   ],
   "source": [
    "pd.crosstab(titanic_train['age_category'],titanic_train['Survived'],margins=True)"
   ]
  },
  {
   "cell_type": "code",
   "execution_count": 49,
   "id": "83d273c0",
   "metadata": {},
   "outputs": [],
   "source": [
    "d=[]\n",
    "for i,j in zip(titanic_train['age_category'],titanic_train['Survived']):\n",
    "    if j==0:\n",
    "        c=i.replace(\"Unknown\",\"Adult\")\n",
    "        d.append(c)\n",
    "    else:\n",
    "        c=i.replace(\"Unknown\",\"Mid senior\")\n",
    "        d.append(c)\n",
    "        "
   ]
  },
  {
   "cell_type": "code",
   "execution_count": 50,
   "id": "1d32a31d",
   "metadata": {},
   "outputs": [
    {
     "data": {
      "text/plain": [
       "['Adult',\n",
       " 'Mid senior',\n",
       " 'Adult',\n",
       " 'Mid senior',\n",
       " 'Mid senior',\n",
       " 'Adult',\n",
       " 'Senior',\n",
       " 'Child',\n",
       " 'Adult',\n",
       " 'Immature',\n",
       " 'Child',\n",
       " 'Senior',\n",
       " 'Adult',\n",
       " 'Mid senior',\n",
       " 'Immature',\n",
       " 'Senior',\n",
       " 'Child',\n",
       " 'Mid senior',\n",
       " 'Mid senior',\n",
       " 'Mid senior',\n",
       " 'Mid senior',\n",
       " 'Mid senior',\n",
       " 'Immature',\n",
       " 'Adult',\n",
       " 'Child',\n",
       " 'Mid senior',\n",
       " 'Adult',\n",
       " 'Adult',\n",
       " 'Mid senior',\n",
       " 'Adult',\n",
       " 'Mid senior',\n",
       " 'Mid senior',\n",
       " 'Mid senior',\n",
       " 'Senior',\n",
       " 'Adult',\n",
       " 'Mid senior',\n",
       " 'Mid senior',\n",
       " 'Adult',\n",
       " 'Immature',\n",
       " 'Immature',\n",
       " 'Mid senior',\n",
       " 'Adult',\n",
       " 'Adult',\n",
       " 'Child',\n",
       " 'Adult',\n",
       " 'Adult',\n",
       " 'Adult',\n",
       " 'Mid senior',\n",
       " 'Adult',\n",
       " 'Immature',\n",
       " 'Child',\n",
       " 'Adult',\n",
       " 'Mid senior',\n",
       " 'Adult',\n",
       " 'Senior',\n",
       " 'Mid senior',\n",
       " 'Adult',\n",
       " 'Adult',\n",
       " 'Child',\n",
       " 'Child',\n",
       " 'Adult',\n",
       " 'Mid senior',\n",
       " 'Mid senior',\n",
       " 'Child',\n",
       " 'Adult',\n",
       " 'Mid senior',\n",
       " 'Adult',\n",
       " 'Adult',\n",
       " 'Immature',\n",
       " 'Adult',\n",
       " 'Mid senior',\n",
       " 'Immature',\n",
       " 'Adult',\n",
       " 'Adult',\n",
       " 'Mid senior',\n",
       " 'Adult',\n",
       " 'Adult',\n",
       " 'Adult',\n",
       " 'Mid senior',\n",
       " 'Adult',\n",
       " 'Adult',\n",
       " 'Adult',\n",
       " 'Mid senior',\n",
       " 'Adult',\n",
       " 'Immature',\n",
       " 'Mid senior',\n",
       " 'Immature',\n",
       " 'Adult',\n",
       " 'Adult',\n",
       " 'Adult',\n",
       " 'Adult',\n",
       " 'Adult',\n",
       " 'Mid senior',\n",
       " 'Adult',\n",
       " 'Senior',\n",
       " 'Adult',\n",
       " 'Senior',\n",
       " 'Adult',\n",
       " 'Mid senior',\n",
       " 'Mid senior',\n",
       " 'Adult',\n",
       " 'Adult',\n",
       " 'Adult',\n",
       " 'Mid senior',\n",
       " 'Mid senior',\n",
       " 'Adult',\n",
       " 'Adult',\n",
       " 'Mid senior',\n",
       " 'Mid senior',\n",
       " 'Mid senior',\n",
       " 'Mid senior',\n",
       " 'Immature',\n",
       " 'Adult',\n",
       " 'Adult',\n",
       " 'Immature',\n",
       " 'Adult',\n",
       " 'Senior',\n",
       " 'Adult',\n",
       " 'Adult',\n",
       " 'Child',\n",
       " 'Adult',\n",
       " 'Adult',\n",
       " 'Mid senior',\n",
       " 'Mid senior',\n",
       " 'Senior',\n",
       " 'Child',\n",
       " 'Adult',\n",
       " 'Adult',\n",
       " 'Mid senior',\n",
       " 'Mid senior',\n",
       " 'Mid senior',\n",
       " 'Adult',\n",
       " 'Mid senior',\n",
       " 'Adult',\n",
       " 'Adult',\n",
       " 'Adult',\n",
       " 'Adult',\n",
       " 'Mid senior',\n",
       " 'Immature',\n",
       " 'Adult',\n",
       " 'Adult',\n",
       " 'Adult',\n",
       " 'Adult',\n",
       " 'Adult',\n",
       " 'Immature',\n",
       " 'Adult',\n",
       " 'Adult',\n",
       " 'Child',\n",
       " 'Mid senior',\n",
       " 'Mid senior',\n",
       " 'Senior',\n",
       " 'Adult',\n",
       " 'Senior',\n",
       " 'Mid senior',\n",
       " 'Adult',\n",
       " 'Senior',\n",
       " 'Immature',\n",
       " 'Adult',\n",
       " 'Adult',\n",
       " 'Adult',\n",
       " 'Mid senior',\n",
       " 'Mid senior',\n",
       " 'Adult',\n",
       " 'Immature',\n",
       " 'Child',\n",
       " 'Child',\n",
       " 'Mid senior',\n",
       " 'Mid senior',\n",
       " 'Adult',\n",
       " 'Adult',\n",
       " 'Senior',\n",
       " 'Child',\n",
       " 'Child',\n",
       " 'Adult',\n",
       " 'Senior',\n",
       " 'Immature',\n",
       " 'Adult',\n",
       " 'Mid senior',\n",
       " 'Adult',\n",
       " 'Mid senior',\n",
       " 'Adult',\n",
       " 'Adult',\n",
       " 'Child',\n",
       " 'Child',\n",
       " 'Child',\n",
       " 'Adult',\n",
       " 'Mid senior',\n",
       " 'Mid senior',\n",
       " 'Mid senior',\n",
       " 'Mid senior',\n",
       " 'Mid senior',\n",
       " 'Adult',\n",
       " 'Adult',\n",
       " 'Child',\n",
       " 'Mid senior',\n",
       " 'Senior',\n",
       " 'Adult',\n",
       " 'Mid senior',\n",
       " 'Mid senior',\n",
       " 'Adult',\n",
       " 'Adult',\n",
       " 'Adult',\n",
       " 'Mid senior',\n",
       " 'Mid senior',\n",
       " 'Immature',\n",
       " 'Child',\n",
       " 'Mid senior',\n",
       " 'Adult',\n",
       " 'Immature',\n",
       " 'Mid senior',\n",
       " 'Adult',\n",
       " 'Mid senior',\n",
       " 'Adult',\n",
       " 'Adult',\n",
       " 'Adult',\n",
       " 'Mid senior',\n",
       " 'Adult',\n",
       " 'Mid senior',\n",
       " 'Mid senior',\n",
       " 'Adult',\n",
       " 'Immature',\n",
       " 'Adult',\n",
       " 'Senior',\n",
       " 'Adult',\n",
       " 'Mid senior',\n",
       " 'Adult',\n",
       " 'Adult',\n",
       " 'Adult',\n",
       " 'Immature',\n",
       " 'Adult',\n",
       " 'Mid senior',\n",
       " 'Adult',\n",
       " 'Senior',\n",
       " 'Child',\n",
       " 'Adult',\n",
       " 'Adult',\n",
       " 'Mid senior',\n",
       " 'Child',\n",
       " 'Adult',\n",
       " 'Mid senior',\n",
       " 'Adult',\n",
       " 'Mid senior',\n",
       " 'Adult',\n",
       " 'Adult',\n",
       " 'Adult',\n",
       " 'Mid senior',\n",
       " 'Adult',\n",
       " 'Adult',\n",
       " 'Mid senior',\n",
       " 'Senior',\n",
       " 'Adult',\n",
       " 'Adult',\n",
       " 'Senior',\n",
       " 'Adult',\n",
       " 'Mid senior',\n",
       " 'Adult',\n",
       " 'Mid senior',\n",
       " 'Adult',\n",
       " 'Mid senior',\n",
       " 'Mid senior',\n",
       " 'Adult',\n",
       " 'Child',\n",
       " 'Senior',\n",
       " 'Mid senior',\n",
       " 'Adult',\n",
       " 'Mid senior',\n",
       " 'Immature',\n",
       " 'Adult',\n",
       " 'Senior',\n",
       " 'Mid senior',\n",
       " 'Adult',\n",
       " 'Adult',\n",
       " 'Mid senior',\n",
       " 'Mid senior',\n",
       " 'Mid senior',\n",
       " 'Senior',\n",
       " 'Mid senior',\n",
       " 'Adult',\n",
       " 'Child',\n",
       " 'Mid senior',\n",
       " 'Senior',\n",
       " 'Adult',\n",
       " 'Immature',\n",
       " 'Adult',\n",
       " 'Adult',\n",
       " 'Mid senior',\n",
       " 'Adult',\n",
       " 'Adult',\n",
       " 'Mid senior',\n",
       " 'Adult',\n",
       " 'Adult',\n",
       " 'Adult',\n",
       " 'Mid senior',\n",
       " 'Adult',\n",
       " 'Adult',\n",
       " 'Adult',\n",
       " 'Adult',\n",
       " 'Child',\n",
       " 'Mid senior',\n",
       " 'Mid senior',\n",
       " 'Mid senior',\n",
       " 'Mid senior',\n",
       " 'Adult',\n",
       " 'Mid senior',\n",
       " 'Adult',\n",
       " 'Mid senior',\n",
       " 'Mid senior',\n",
       " 'Immature',\n",
       " 'Adult',\n",
       " 'Adult',\n",
       " 'Adult',\n",
       " 'Immature',\n",
       " 'Adult',\n",
       " 'Adult',\n",
       " 'Mid senior',\n",
       " 'Adult',\n",
       " 'Adult',\n",
       " 'Senior',\n",
       " 'Mid senior',\n",
       " 'Mid senior',\n",
       " 'Adult',\n",
       " 'Adult',\n",
       " 'Adult',\n",
       " 'Adult',\n",
       " 'Adult',\n",
       " 'Mid senior',\n",
       " 'Senior',\n",
       " 'Mid senior',\n",
       " 'Mid senior',\n",
       " 'Immature',\n",
       " 'Mid senior',\n",
       " 'Mid senior',\n",
       " 'Mid senior',\n",
       " 'Immature',\n",
       " 'Mid senior',\n",
       " 'Adult',\n",
       " 'Adult',\n",
       " 'Mid senior',\n",
       " 'Mid senior',\n",
       " 'Mid senior',\n",
       " 'Child',\n",
       " 'Adult',\n",
       " 'Adult',\n",
       " 'Adult',\n",
       " 'Mid senior',\n",
       " 'Adult',\n",
       " 'Mid senior',\n",
       " 'Mid senior',\n",
       " 'Child',\n",
       " 'Mid senior',\n",
       " 'Adult',\n",
       " 'Adult',\n",
       " 'Immature',\n",
       " 'Adult',\n",
       " 'Adult',\n",
       " 'Adult',\n",
       " 'Adult',\n",
       " 'Mid senior',\n",
       " 'Mid senior',\n",
       " 'Mid senior',\n",
       " 'Mid senior',\n",
       " 'Adult',\n",
       " 'Mid senior',\n",
       " 'Mid senior',\n",
       " 'Adult',\n",
       " 'Adult',\n",
       " 'Senior',\n",
       " 'Mid senior',\n",
       " 'Mid senior',\n",
       " 'Adult',\n",
       " 'Adult',\n",
       " 'Immature',\n",
       " 'Adult',\n",
       " 'Adult',\n",
       " 'Child',\n",
       " 'Mid senior',\n",
       " 'Adult',\n",
       " 'Adult',\n",
       " 'Adult',\n",
       " 'Adult',\n",
       " 'Mid senior',\n",
       " 'Child',\n",
       " 'Mid senior',\n",
       " 'Mid senior',\n",
       " 'Adult',\n",
       " 'Immature',\n",
       " 'Child',\n",
       " 'Mid senior',\n",
       " 'Adult',\n",
       " 'Immature',\n",
       " 'Mid senior',\n",
       " 'Adult',\n",
       " 'Adult',\n",
       " 'Adult',\n",
       " 'Adult',\n",
       " 'Adult',\n",
       " 'Mid senior',\n",
       " 'Mid senior',\n",
       " 'Adult',\n",
       " 'Adult',\n",
       " 'Mid senior',\n",
       " 'Adult',\n",
       " 'Adult',\n",
       " 'Adult',\n",
       " 'Adult',\n",
       " 'Mid senior',\n",
       " 'Senior',\n",
       " 'Child',\n",
       " 'Adult',\n",
       " 'Adult',\n",
       " 'Adult',\n",
       " 'Adult',\n",
       " 'Mid senior',\n",
       " 'Adult',\n",
       " 'Mid senior',\n",
       " 'Adult',\n",
       " 'Mid senior',\n",
       " 'Immature',\n",
       " 'Adult',\n",
       " 'Child',\n",
       " 'Adult',\n",
       " 'Adult',\n",
       " 'Adult',\n",
       " 'Adult',\n",
       " 'Immature',\n",
       " 'Adult',\n",
       " 'Adult',\n",
       " 'Adult',\n",
       " 'Adult',\n",
       " 'Mid senior',\n",
       " 'Adult',\n",
       " 'Mid senior',\n",
       " 'Mid senior',\n",
       " 'Immature',\n",
       " 'Mid senior',\n",
       " 'Immature',\n",
       " 'Adult',\n",
       " 'Adult',\n",
       " 'Senior',\n",
       " 'Mid senior',\n",
       " 'Mid senior',\n",
       " 'Adult',\n",
       " 'Adult',\n",
       " 'Adult',\n",
       " 'Mid senior',\n",
       " 'Child',\n",
       " 'Immature',\n",
       " 'Mid senior',\n",
       " 'Child',\n",
       " 'Senior',\n",
       " 'Mid senior',\n",
       " 'Adult',\n",
       " 'Adult',\n",
       " 'Mid senior',\n",
       " 'Adult',\n",
       " 'Adult',\n",
       " 'Senior',\n",
       " 'Mid senior',\n",
       " 'Mid senior',\n",
       " 'Adult',\n",
       " 'Mid senior',\n",
       " 'Mid senior',\n",
       " 'Mid senior',\n",
       " 'Mid senior',\n",
       " 'Adult',\n",
       " 'Mid senior',\n",
       " 'Adult',\n",
       " 'Senior',\n",
       " 'Adult',\n",
       " 'Mid senior',\n",
       " 'Adult',\n",
       " 'Mid senior',\n",
       " 'Mid senior',\n",
       " 'Adult',\n",
       " 'Adult',\n",
       " 'Adult',\n",
       " 'Mid senior',\n",
       " 'Adult',\n",
       " 'Adult',\n",
       " 'Child',\n",
       " 'Child',\n",
       " 'Adult',\n",
       " 'Mid senior',\n",
       " 'Senior',\n",
       " 'Adult',\n",
       " 'Adult',\n",
       " 'Mid senior',\n",
       " 'Senior',\n",
       " 'Adult',\n",
       " 'Child',\n",
       " 'Adult',\n",
       " 'Adult',\n",
       " 'Senior',\n",
       " 'Senior',\n",
       " 'Adult',\n",
       " 'Adult',\n",
       " 'Senior',\n",
       " 'Adult',\n",
       " 'Adult',\n",
       " 'Adult',\n",
       " 'Immature',\n",
       " 'Adult',\n",
       " 'Adult',\n",
       " 'Mid senior',\n",
       " 'Immature',\n",
       " 'Immature',\n",
       " 'Mid senior',\n",
       " 'Mid senior',\n",
       " 'Adult',\n",
       " 'Adult',\n",
       " 'Adult',\n",
       " 'Adult',\n",
       " 'Mid senior',\n",
       " 'Senior',\n",
       " 'Adult',\n",
       " 'Mid senior',\n",
       " 'Mid senior',\n",
       " 'Adult',\n",
       " 'Mid senior',\n",
       " 'Mid senior',\n",
       " 'Adult',\n",
       " 'Adult',\n",
       " 'Adult',\n",
       " 'Mid senior',\n",
       " 'Adult',\n",
       " 'Mid senior',\n",
       " 'Mid senior',\n",
       " 'Adult',\n",
       " 'Mid senior',\n",
       " 'Adult',\n",
       " 'Child',\n",
       " 'Adult',\n",
       " 'Immature',\n",
       " 'Mid senior',\n",
       " 'Adult',\n",
       " 'Child',\n",
       " 'Mid senior',\n",
       " 'Adult',\n",
       " 'Adult',\n",
       " 'Adult',\n",
       " 'Mid senior',\n",
       " 'Child',\n",
       " 'Child',\n",
       " 'Mid senior',\n",
       " 'Mid senior',\n",
       " 'Senior',\n",
       " 'Adult',\n",
       " 'Mid senior',\n",
       " 'Mid senior',\n",
       " 'Child',\n",
       " 'Immature',\n",
       " 'Adult',\n",
       " 'Adult',\n",
       " 'Adult',\n",
       " 'Adult',\n",
       " 'Senior',\n",
       " 'Mid senior',\n",
       " 'Adult',\n",
       " 'Mid senior',\n",
       " 'Mid senior',\n",
       " 'Adult',\n",
       " 'Mid senior',\n",
       " 'Adult',\n",
       " 'Adult',\n",
       " 'Adult',\n",
       " 'Adult',\n",
       " 'Adult',\n",
       " 'Adult',\n",
       " 'Adult',\n",
       " 'Mid senior',\n",
       " 'Senior',\n",
       " 'Senior',\n",
       " 'Mid senior',\n",
       " 'Mid senior',\n",
       " 'Immature',\n",
       " 'Adult',\n",
       " 'Mid senior',\n",
       " 'Mid senior',\n",
       " 'Adult',\n",
       " 'Mid senior',\n",
       " 'Adult',\n",
       " 'Mid senior',\n",
       " 'Senior',\n",
       " 'Mid senior',\n",
       " 'Adult',\n",
       " 'Immature',\n",
       " 'Mid senior',\n",
       " 'Senior',\n",
       " 'Adult',\n",
       " 'Adult',\n",
       " 'Mid senior',\n",
       " 'Senior',\n",
       " 'Mid senior',\n",
       " 'Adult',\n",
       " 'Mid senior',\n",
       " 'Mid senior',\n",
       " 'Mid senior',\n",
       " 'Mid senior',\n",
       " 'Adult',\n",
       " 'Mid senior',\n",
       " 'Adult',\n",
       " 'Adult',\n",
       " 'Adult',\n",
       " 'Mid senior',\n",
       " 'Mid senior',\n",
       " 'Mid senior',\n",
       " 'Adult',\n",
       " 'Adult',\n",
       " 'Adult',\n",
       " 'Mid senior',\n",
       " 'Mid senior',\n",
       " 'Adult',\n",
       " 'Mid senior',\n",
       " 'Adult',\n",
       " 'Mid senior',\n",
       " 'Adult',\n",
       " 'Mid senior',\n",
       " 'Adult',\n",
       " 'Child',\n",
       " 'Adult',\n",
       " 'Adult',\n",
       " 'Mid senior',\n",
       " 'Adult',\n",
       " 'Adult',\n",
       " 'Adult',\n",
       " 'Senior',\n",
       " 'Senior',\n",
       " 'Adult',\n",
       " 'Adult',\n",
       " 'Adult',\n",
       " 'Senior',\n",
       " 'Senior',\n",
       " 'Mid senior',\n",
       " 'Adult',\n",
       " 'Child',\n",
       " 'Adult',\n",
       " 'Mid senior',\n",
       " 'Mid senior',\n",
       " 'Mid senior',\n",
       " 'Adult',\n",
       " 'Adult',\n",
       " 'Adult',\n",
       " 'Child',\n",
       " 'Mid senior',\n",
       " 'Mid senior',\n",
       " 'Mid senior',\n",
       " 'Adult',\n",
       " 'Senior',\n",
       " 'Adult',\n",
       " 'Adult',\n",
       " 'Adult',\n",
       " 'Immature',\n",
       " 'Adult',\n",
       " 'Mid senior',\n",
       " 'Immature',\n",
       " 'Adult',\n",
       " 'Adult',\n",
       " 'Mid senior',\n",
       " 'Adult',\n",
       " 'Senior',\n",
       " 'Mid senior',\n",
       " 'Mid senior',\n",
       " 'Mid senior',\n",
       " 'Mid senior',\n",
       " 'Adult',\n",
       " 'Mid senior',\n",
       " 'Adult',\n",
       " 'Adult',\n",
       " 'Mid senior',\n",
       " 'Mid senior',\n",
       " 'Mid senior',\n",
       " 'Mid senior',\n",
       " 'Senior',\n",
       " 'Mid senior',\n",
       " 'Adult',\n",
       " 'Immature',\n",
       " 'Adult',\n",
       " 'Immature',\n",
       " 'Mid senior',\n",
       " 'Mid senior',\n",
       " 'Adult',\n",
       " 'Adult',\n",
       " 'Adult',\n",
       " 'Immature',\n",
       " 'Senior',\n",
       " 'Adult',\n",
       " 'Immature',\n",
       " 'Adult',\n",
       " 'Immature',\n",
       " 'Immature',\n",
       " 'Mid senior',\n",
       " 'Child',\n",
       " 'Mid senior',\n",
       " 'Adult',\n",
       " 'Senior',\n",
       " 'Senior',\n",
       " 'Mid senior',\n",
       " 'Mid senior',\n",
       " 'Mid senior',\n",
       " 'Mid senior',\n",
       " 'Immature',\n",
       " 'Mid senior',\n",
       " 'Immature',\n",
       " 'Adult',\n",
       " 'Adult',\n",
       " 'Mid senior',\n",
       " 'Mid senior',\n",
       " 'Mid senior',\n",
       " 'Adult',\n",
       " 'Mid senior',\n",
       " 'Adult',\n",
       " 'Adult',\n",
       " 'Mid senior',\n",
       " 'Adult',\n",
       " 'Senior',\n",
       " 'Adult',\n",
       " 'Mid senior',\n",
       " 'Adult',\n",
       " 'Adult',\n",
       " 'Mid senior',\n",
       " 'Child',\n",
       " 'Immature',\n",
       " 'Mid senior',\n",
       " 'Mid senior',\n",
       " 'Adult',\n",
       " 'Adult',\n",
       " 'Adult',\n",
       " 'Mid senior',\n",
       " 'Adult',\n",
       " 'Adult',\n",
       " 'Adult',\n",
       " 'Child',\n",
       " 'Adult',\n",
       " 'Adult',\n",
       " 'Adult',\n",
       " 'Adult',\n",
       " 'Mid senior',\n",
       " 'Mid senior',\n",
       " 'Adult',\n",
       " 'Adult',\n",
       " 'Mid senior',\n",
       " 'Mid senior',\n",
       " 'Adult',\n",
       " 'Adult',\n",
       " 'Mid senior',\n",
       " 'Senior',\n",
       " 'Immature',\n",
       " 'Adult',\n",
       " 'Adult',\n",
       " 'Mid senior',\n",
       " 'Child',\n",
       " 'Child',\n",
       " 'Mid senior',\n",
       " 'Adult',\n",
       " 'Mid senior',\n",
       " 'Mid senior',\n",
       " 'Adult',\n",
       " 'Immature',\n",
       " 'Mid senior',\n",
       " 'Mid senior',\n",
       " 'Adult',\n",
       " 'Mid senior',\n",
       " 'Adult',\n",
       " 'Mid senior',\n",
       " 'Immature',\n",
       " 'Senior',\n",
       " 'Adult',\n",
       " 'Mid senior',\n",
       " 'Adult',\n",
       " 'Mid senior',\n",
       " 'Adult',\n",
       " 'Mid senior',\n",
       " 'Senior',\n",
       " 'Adult',\n",
       " 'Senior',\n",
       " 'Immature',\n",
       " 'Adult',\n",
       " 'Child',\n",
       " 'Adult',\n",
       " 'Mid senior',\n",
       " 'Immature',\n",
       " 'Immature',\n",
       " 'Adult',\n",
       " 'Adult',\n",
       " 'Adult',\n",
       " 'Adult',\n",
       " 'Immature',\n",
       " 'Child',\n",
       " 'Child',\n",
       " 'Mid senior',\n",
       " 'Adult',\n",
       " 'Immature',\n",
       " 'Adult',\n",
       " 'Adult',\n",
       " 'Adult',\n",
       " 'Mid senior',\n",
       " 'Mid senior',\n",
       " 'Mid senior',\n",
       " 'Adult',\n",
       " 'Adult',\n",
       " 'Mid senior',\n",
       " 'Mid senior',\n",
       " 'Child',\n",
       " 'Mid senior',\n",
       " 'Adult',\n",
       " 'Mid senior',\n",
       " 'Mid senior',\n",
       " 'Immature',\n",
       " 'Mid senior',\n",
       " 'Mid senior',\n",
       " 'Adult',\n",
       " 'Mid senior',\n",
       " 'Mid senior',\n",
       " 'Child',\n",
       " 'Mid senior',\n",
       " 'Adult',\n",
       " 'Adult',\n",
       " 'Mid senior',\n",
       " 'Mid senior',\n",
       " 'Child',\n",
       " 'Senior',\n",
       " 'Adult',\n",
       " 'Mid senior',\n",
       " 'Adult',\n",
       " 'Child',\n",
       " 'Adult',\n",
       " 'Adult',\n",
       " 'Child',\n",
       " 'Mid senior',\n",
       " 'Senior',\n",
       " 'Immature',\n",
       " 'Mid senior',\n",
       " 'Adult',\n",
       " 'Adult',\n",
       " 'Immature',\n",
       " 'Mid senior',\n",
       " 'Adult',\n",
       " 'Adult',\n",
       " 'Mid senior',\n",
       " 'Mid senior',\n",
       " 'Adult',\n",
       " 'Immature',\n",
       " 'Adult',\n",
       " 'Mid senior',\n",
       " 'Immature',\n",
       " 'Mid senior',\n",
       " 'Adult',\n",
       " 'Mid senior',\n",
       " 'Adult',\n",
       " 'Mid senior',\n",
       " 'Child',\n",
       " 'Senior',\n",
       " 'Child',\n",
       " 'Immature',\n",
       " 'Mid senior',\n",
       " 'Immature',\n",
       " 'Mid senior',\n",
       " 'Senior',\n",
       " 'Adult',\n",
       " 'Adult',\n",
       " 'Mid senior',\n",
       " 'Adult',\n",
       " 'Mid senior',\n",
       " 'Adult',\n",
       " 'Adult',\n",
       " 'Mid senior',\n",
       " 'Adult',\n",
       " 'Mid senior',\n",
       " 'Adult',\n",
       " 'Child',\n",
       " 'Adult',\n",
       " 'Mid senior',\n",
       " 'Mid senior',\n",
       " 'Mid senior',\n",
       " 'Adult',\n",
       " 'Immature',\n",
       " 'Adult',\n",
       " 'Adult',\n",
       " 'Adult',\n",
       " 'Senior',\n",
       " 'Adult',\n",
       " 'Mid senior',\n",
       " 'Adult',\n",
       " 'Adult',\n",
       " 'Adult',\n",
       " 'Mid senior',\n",
       " 'Adult',\n",
       " 'Adult',\n",
       " 'Adult',\n",
       " 'Adult',\n",
       " 'Mid senior']"
      ]
     },
     "execution_count": 50,
     "metadata": {},
     "output_type": "execute_result"
    }
   ],
   "source": [
    "d"
   ]
  },
  {
   "cell_type": "code",
   "execution_count": 51,
   "id": "c3dd6edf",
   "metadata": {},
   "outputs": [],
   "source": [
    "b=pd.DataFrame(d)"
   ]
  },
  {
   "cell_type": "code",
   "execution_count": 52,
   "id": "4e86e954",
   "metadata": {},
   "outputs": [],
   "source": [
    "df=pd.concat([b,titanic_train],axis=1)"
   ]
  },
  {
   "cell_type": "code",
   "execution_count": 53,
   "id": "a783a66a",
   "metadata": {},
   "outputs": [
    {
     "data": {
      "text/plain": [
       "0\n",
       "Adult         395\n",
       "Mid senior    300\n",
       "Immature       70\n",
       "Senior         64\n",
       "Child          62\n",
       "Name: count, dtype: int64"
      ]
     },
     "execution_count": 53,
     "metadata": {},
     "output_type": "execute_result"
    }
   ],
   "source": [
    "df[0].value_counts()"
   ]
  },
  {
   "cell_type": "code",
   "execution_count": 54,
   "id": "c260bbf9",
   "metadata": {},
   "outputs": [],
   "source": [
    "df.rename(columns={0: 'Age_Category'}, inplace=True)"
   ]
  },
  {
   "cell_type": "code",
   "execution_count": 55,
   "id": "99c249db",
   "metadata": {},
   "outputs": [
    {
     "data": {
      "text/html": [
       "<div>\n",
       "<style scoped>\n",
       "    .dataframe tbody tr th:only-of-type {\n",
       "        vertical-align: middle;\n",
       "    }\n",
       "\n",
       "    .dataframe tbody tr th {\n",
       "        vertical-align: top;\n",
       "    }\n",
       "\n",
       "    .dataframe thead th {\n",
       "        text-align: right;\n",
       "    }\n",
       "</style>\n",
       "<table border=\"1\" class=\"dataframe\">\n",
       "  <thead>\n",
       "    <tr style=\"text-align: right;\">\n",
       "      <th></th>\n",
       "      <th>Age_Category</th>\n",
       "      <th>Survived</th>\n",
       "      <th>Pclass</th>\n",
       "      <th>Sex</th>\n",
       "      <th>Age</th>\n",
       "      <th>SibSp</th>\n",
       "      <th>Parch</th>\n",
       "      <th>Fare</th>\n",
       "      <th>Embarked</th>\n",
       "      <th>age_category</th>\n",
       "    </tr>\n",
       "  </thead>\n",
       "  <tbody>\n",
       "    <tr>\n",
       "      <th>0</th>\n",
       "      <td>Adult</td>\n",
       "      <td>0</td>\n",
       "      <td>3</td>\n",
       "      <td>male</td>\n",
       "      <td>22.0</td>\n",
       "      <td>1</td>\n",
       "      <td>0</td>\n",
       "      <td>7.2500</td>\n",
       "      <td>S</td>\n",
       "      <td>Adult</td>\n",
       "    </tr>\n",
       "    <tr>\n",
       "      <th>1</th>\n",
       "      <td>Mid senior</td>\n",
       "      <td>1</td>\n",
       "      <td>1</td>\n",
       "      <td>female</td>\n",
       "      <td>38.0</td>\n",
       "      <td>1</td>\n",
       "      <td>0</td>\n",
       "      <td>71.2833</td>\n",
       "      <td>C</td>\n",
       "      <td>Mid senior</td>\n",
       "    </tr>\n",
       "    <tr>\n",
       "      <th>2</th>\n",
       "      <td>Adult</td>\n",
       "      <td>1</td>\n",
       "      <td>3</td>\n",
       "      <td>female</td>\n",
       "      <td>26.0</td>\n",
       "      <td>0</td>\n",
       "      <td>0</td>\n",
       "      <td>7.9250</td>\n",
       "      <td>S</td>\n",
       "      <td>Adult</td>\n",
       "    </tr>\n",
       "    <tr>\n",
       "      <th>3</th>\n",
       "      <td>Mid senior</td>\n",
       "      <td>1</td>\n",
       "      <td>1</td>\n",
       "      <td>female</td>\n",
       "      <td>35.0</td>\n",
       "      <td>1</td>\n",
       "      <td>0</td>\n",
       "      <td>53.1000</td>\n",
       "      <td>S</td>\n",
       "      <td>Mid senior</td>\n",
       "    </tr>\n",
       "    <tr>\n",
       "      <th>4</th>\n",
       "      <td>Mid senior</td>\n",
       "      <td>0</td>\n",
       "      <td>3</td>\n",
       "      <td>male</td>\n",
       "      <td>35.0</td>\n",
       "      <td>0</td>\n",
       "      <td>0</td>\n",
       "      <td>8.0500</td>\n",
       "      <td>S</td>\n",
       "      <td>Mid senior</td>\n",
       "    </tr>\n",
       "    <tr>\n",
       "      <th>...</th>\n",
       "      <td>...</td>\n",
       "      <td>...</td>\n",
       "      <td>...</td>\n",
       "      <td>...</td>\n",
       "      <td>...</td>\n",
       "      <td>...</td>\n",
       "      <td>...</td>\n",
       "      <td>...</td>\n",
       "      <td>...</td>\n",
       "      <td>...</td>\n",
       "    </tr>\n",
       "    <tr>\n",
       "      <th>886</th>\n",
       "      <td>Adult</td>\n",
       "      <td>0</td>\n",
       "      <td>2</td>\n",
       "      <td>male</td>\n",
       "      <td>27.0</td>\n",
       "      <td>0</td>\n",
       "      <td>0</td>\n",
       "      <td>13.0000</td>\n",
       "      <td>S</td>\n",
       "      <td>Adult</td>\n",
       "    </tr>\n",
       "    <tr>\n",
       "      <th>887</th>\n",
       "      <td>Adult</td>\n",
       "      <td>1</td>\n",
       "      <td>1</td>\n",
       "      <td>female</td>\n",
       "      <td>19.0</td>\n",
       "      <td>0</td>\n",
       "      <td>0</td>\n",
       "      <td>30.0000</td>\n",
       "      <td>S</td>\n",
       "      <td>Adult</td>\n",
       "    </tr>\n",
       "    <tr>\n",
       "      <th>888</th>\n",
       "      <td>Adult</td>\n",
       "      <td>0</td>\n",
       "      <td>3</td>\n",
       "      <td>female</td>\n",
       "      <td>NaN</td>\n",
       "      <td>1</td>\n",
       "      <td>2</td>\n",
       "      <td>23.4500</td>\n",
       "      <td>S</td>\n",
       "      <td>Unknown</td>\n",
       "    </tr>\n",
       "    <tr>\n",
       "      <th>889</th>\n",
       "      <td>Adult</td>\n",
       "      <td>1</td>\n",
       "      <td>1</td>\n",
       "      <td>male</td>\n",
       "      <td>26.0</td>\n",
       "      <td>0</td>\n",
       "      <td>0</td>\n",
       "      <td>30.0000</td>\n",
       "      <td>C</td>\n",
       "      <td>Adult</td>\n",
       "    </tr>\n",
       "    <tr>\n",
       "      <th>890</th>\n",
       "      <td>Mid senior</td>\n",
       "      <td>0</td>\n",
       "      <td>3</td>\n",
       "      <td>male</td>\n",
       "      <td>32.0</td>\n",
       "      <td>0</td>\n",
       "      <td>0</td>\n",
       "      <td>7.7500</td>\n",
       "      <td>Q</td>\n",
       "      <td>Mid senior</td>\n",
       "    </tr>\n",
       "  </tbody>\n",
       "</table>\n",
       "<p>891 rows × 10 columns</p>\n",
       "</div>"
      ],
      "text/plain": [
       "    Age_Category  Survived  Pclass     Sex   Age  SibSp  Parch     Fare  \\\n",
       "0          Adult         0       3    male  22.0      1      0   7.2500   \n",
       "1     Mid senior         1       1  female  38.0      1      0  71.2833   \n",
       "2          Adult         1       3  female  26.0      0      0   7.9250   \n",
       "3     Mid senior         1       1  female  35.0      1      0  53.1000   \n",
       "4     Mid senior         0       3    male  35.0      0      0   8.0500   \n",
       "..           ...       ...     ...     ...   ...    ...    ...      ...   \n",
       "886        Adult         0       2    male  27.0      0      0  13.0000   \n",
       "887        Adult         1       1  female  19.0      0      0  30.0000   \n",
       "888        Adult         0       3  female   NaN      1      2  23.4500   \n",
       "889        Adult         1       1    male  26.0      0      0  30.0000   \n",
       "890   Mid senior         0       3    male  32.0      0      0   7.7500   \n",
       "\n",
       "    Embarked age_category  \n",
       "0          S        Adult  \n",
       "1          C   Mid senior  \n",
       "2          S        Adult  \n",
       "3          S   Mid senior  \n",
       "4          S   Mid senior  \n",
       "..       ...          ...  \n",
       "886        S        Adult  \n",
       "887        S        Adult  \n",
       "888        S      Unknown  \n",
       "889        C        Adult  \n",
       "890        Q   Mid senior  \n",
       "\n",
       "[891 rows x 10 columns]"
      ]
     },
     "execution_count": 55,
     "metadata": {},
     "output_type": "execute_result"
    }
   ],
   "source": [
    "df"
   ]
  },
  {
   "cell_type": "code",
   "execution_count": 56,
   "id": "66f40f91",
   "metadata": {},
   "outputs": [],
   "source": [
    "df = df.drop(['age_category','Age'], axis = 1)"
   ]
  },
  {
   "cell_type": "code",
   "execution_count": 57,
   "id": "4344e060",
   "metadata": {},
   "outputs": [
    {
     "data": {
      "text/plain": [
       "Embarked\n",
       "S    644\n",
       "C    168\n",
       "Q     77\n",
       "Name: count, dtype: int64"
      ]
     },
     "execution_count": 57,
     "metadata": {},
     "output_type": "execute_result"
    }
   ],
   "source": [
    "df['Embarked'].value_counts()"
   ]
  },
  {
   "cell_type": "code",
   "execution_count": 58,
   "id": "42492cab",
   "metadata": {},
   "outputs": [],
   "source": [
    "df.dropna(inplace = True)"
   ]
  },
  {
   "cell_type": "code",
   "execution_count": 59,
   "id": "db61e3fd",
   "metadata": {},
   "outputs": [
    {
     "data": {
      "text/plain": [
       "Age_Category    0\n",
       "Survived        0\n",
       "Pclass          0\n",
       "Sex             0\n",
       "SibSp           0\n",
       "Parch           0\n",
       "Fare            0\n",
       "Embarked        0\n",
       "dtype: int64"
      ]
     },
     "execution_count": 59,
     "metadata": {},
     "output_type": "execute_result"
    }
   ],
   "source": [
    "df.isnull().sum()"
   ]
  },
  {
   "cell_type": "markdown",
   "id": "eefe7afa",
   "metadata": {},
   "source": [
    "# Handling Missing values in test data"
   ]
  },
  {
   "cell_type": "markdown",
   "id": "738dede7",
   "metadata": {},
   "source": [
    "- Age - float type(By changing this column to groups and filled by most frequent values based on survived column)\n",
    "- Cabin - object type(Dropping this column because it had more 60% of null values)\n",
    "- Fare - object type(dropped rows by using dropna because it has only 2 missing values)"
   ]
  },
  {
   "cell_type": "code",
   "execution_count": 60,
   "id": "fe134acd",
   "metadata": {},
   "outputs": [
    {
     "data": {
      "text/plain": [
       "Pclass       0\n",
       "Sex          0\n",
       "Age         86\n",
       "SibSp        0\n",
       "Parch        0\n",
       "Fare         1\n",
       "Embarked     0\n",
       "dtype: int64"
      ]
     },
     "execution_count": 60,
     "metadata": {},
     "output_type": "execute_result"
    }
   ],
   "source": [
    "titanic_test.isnull().sum()"
   ]
  },
  {
   "cell_type": "code",
   "execution_count": 61,
   "id": "4059ef56",
   "metadata": {},
   "outputs": [
    {
     "data": {
      "text/html": [
       "<div>\n",
       "<style scoped>\n",
       "    .dataframe tbody tr th:only-of-type {\n",
       "        vertical-align: middle;\n",
       "    }\n",
       "\n",
       "    .dataframe tbody tr th {\n",
       "        vertical-align: top;\n",
       "    }\n",
       "\n",
       "    .dataframe thead th {\n",
       "        text-align: right;\n",
       "    }\n",
       "</style>\n",
       "<table border=\"1\" class=\"dataframe\">\n",
       "  <thead>\n",
       "    <tr style=\"text-align: right;\">\n",
       "      <th></th>\n",
       "      <th>Age_Category</th>\n",
       "      <th>Survived</th>\n",
       "      <th>Pclass</th>\n",
       "      <th>Sex</th>\n",
       "      <th>SibSp</th>\n",
       "      <th>Parch</th>\n",
       "      <th>Fare</th>\n",
       "      <th>Embarked</th>\n",
       "    </tr>\n",
       "  </thead>\n",
       "  <tbody>\n",
       "    <tr>\n",
       "      <th>0</th>\n",
       "      <td>Adult</td>\n",
       "      <td>0</td>\n",
       "      <td>3</td>\n",
       "      <td>male</td>\n",
       "      <td>1</td>\n",
       "      <td>0</td>\n",
       "      <td>7.2500</td>\n",
       "      <td>S</td>\n",
       "    </tr>\n",
       "    <tr>\n",
       "      <th>1</th>\n",
       "      <td>Mid senior</td>\n",
       "      <td>1</td>\n",
       "      <td>1</td>\n",
       "      <td>female</td>\n",
       "      <td>1</td>\n",
       "      <td>0</td>\n",
       "      <td>71.2833</td>\n",
       "      <td>C</td>\n",
       "    </tr>\n",
       "    <tr>\n",
       "      <th>2</th>\n",
       "      <td>Adult</td>\n",
       "      <td>1</td>\n",
       "      <td>3</td>\n",
       "      <td>female</td>\n",
       "      <td>0</td>\n",
       "      <td>0</td>\n",
       "      <td>7.9250</td>\n",
       "      <td>S</td>\n",
       "    </tr>\n",
       "    <tr>\n",
       "      <th>3</th>\n",
       "      <td>Mid senior</td>\n",
       "      <td>1</td>\n",
       "      <td>1</td>\n",
       "      <td>female</td>\n",
       "      <td>1</td>\n",
       "      <td>0</td>\n",
       "      <td>53.1000</td>\n",
       "      <td>S</td>\n",
       "    </tr>\n",
       "    <tr>\n",
       "      <th>4</th>\n",
       "      <td>Mid senior</td>\n",
       "      <td>0</td>\n",
       "      <td>3</td>\n",
       "      <td>male</td>\n",
       "      <td>0</td>\n",
       "      <td>0</td>\n",
       "      <td>8.0500</td>\n",
       "      <td>S</td>\n",
       "    </tr>\n",
       "    <tr>\n",
       "      <th>...</th>\n",
       "      <td>...</td>\n",
       "      <td>...</td>\n",
       "      <td>...</td>\n",
       "      <td>...</td>\n",
       "      <td>...</td>\n",
       "      <td>...</td>\n",
       "      <td>...</td>\n",
       "      <td>...</td>\n",
       "    </tr>\n",
       "    <tr>\n",
       "      <th>886</th>\n",
       "      <td>Adult</td>\n",
       "      <td>0</td>\n",
       "      <td>2</td>\n",
       "      <td>male</td>\n",
       "      <td>0</td>\n",
       "      <td>0</td>\n",
       "      <td>13.0000</td>\n",
       "      <td>S</td>\n",
       "    </tr>\n",
       "    <tr>\n",
       "      <th>887</th>\n",
       "      <td>Adult</td>\n",
       "      <td>1</td>\n",
       "      <td>1</td>\n",
       "      <td>female</td>\n",
       "      <td>0</td>\n",
       "      <td>0</td>\n",
       "      <td>30.0000</td>\n",
       "      <td>S</td>\n",
       "    </tr>\n",
       "    <tr>\n",
       "      <th>888</th>\n",
       "      <td>Adult</td>\n",
       "      <td>0</td>\n",
       "      <td>3</td>\n",
       "      <td>female</td>\n",
       "      <td>1</td>\n",
       "      <td>2</td>\n",
       "      <td>23.4500</td>\n",
       "      <td>S</td>\n",
       "    </tr>\n",
       "    <tr>\n",
       "      <th>889</th>\n",
       "      <td>Adult</td>\n",
       "      <td>1</td>\n",
       "      <td>1</td>\n",
       "      <td>male</td>\n",
       "      <td>0</td>\n",
       "      <td>0</td>\n",
       "      <td>30.0000</td>\n",
       "      <td>C</td>\n",
       "    </tr>\n",
       "    <tr>\n",
       "      <th>890</th>\n",
       "      <td>Mid senior</td>\n",
       "      <td>0</td>\n",
       "      <td>3</td>\n",
       "      <td>male</td>\n",
       "      <td>0</td>\n",
       "      <td>0</td>\n",
       "      <td>7.7500</td>\n",
       "      <td>Q</td>\n",
       "    </tr>\n",
       "  </tbody>\n",
       "</table>\n",
       "<p>889 rows × 8 columns</p>\n",
       "</div>"
      ],
      "text/plain": [
       "    Age_Category  Survived  Pclass     Sex  SibSp  Parch     Fare Embarked\n",
       "0          Adult         0       3    male      1      0   7.2500        S\n",
       "1     Mid senior         1       1  female      1      0  71.2833        C\n",
       "2          Adult         1       3  female      0      0   7.9250        S\n",
       "3     Mid senior         1       1  female      1      0  53.1000        S\n",
       "4     Mid senior         0       3    male      0      0   8.0500        S\n",
       "..           ...       ...     ...     ...    ...    ...      ...      ...\n",
       "886        Adult         0       2    male      0      0  13.0000        S\n",
       "887        Adult         1       1  female      0      0  30.0000        S\n",
       "888        Adult         0       3  female      1      2  23.4500        S\n",
       "889        Adult         1       1    male      0      0  30.0000        C\n",
       "890   Mid senior         0       3    male      0      0   7.7500        Q\n",
       "\n",
       "[889 rows x 8 columns]"
      ]
     },
     "execution_count": 61,
     "metadata": {},
     "output_type": "execute_result"
    }
   ],
   "source": [
    "df"
   ]
  },
  {
   "cell_type": "code",
   "execution_count": 62,
   "id": "f4abd5a6",
   "metadata": {},
   "outputs": [
    {
     "data": {
      "text/plain": [
       "Age\n",
       "21.0    17\n",
       "24.0    17\n",
       "22.0    16\n",
       "30.0    15\n",
       "18.0    13\n",
       "        ..\n",
       "76.0     1\n",
       "28.5     1\n",
       "22.5     1\n",
       "62.0     1\n",
       "38.5     1\n",
       "Name: count, Length: 79, dtype: int64"
      ]
     },
     "execution_count": 62,
     "metadata": {},
     "output_type": "execute_result"
    }
   ],
   "source": [
    "titanic_test['Age'].value_counts()"
   ]
  },
  {
   "cell_type": "code",
   "execution_count": 63,
   "id": "4992fc84",
   "metadata": {},
   "outputs": [],
   "source": [
    "titanic_test['Age'] = titanic_test['Age'].fillna(titanic_test['Age'].mode().iloc[0])"
   ]
  },
  {
   "cell_type": "code",
   "execution_count": 64,
   "id": "00eeba47",
   "metadata": {},
   "outputs": [
    {
     "data": {
      "text/plain": [
       "Pclass      0\n",
       "Sex         0\n",
       "Age         0\n",
       "SibSp       0\n",
       "Parch       0\n",
       "Fare        1\n",
       "Embarked    0\n",
       "dtype: int64"
      ]
     },
     "execution_count": 64,
     "metadata": {},
     "output_type": "execute_result"
    }
   ],
   "source": [
    "titanic_test.isnull().sum()"
   ]
  },
  {
   "cell_type": "code",
   "execution_count": 65,
   "id": "dfaaf93c",
   "metadata": {},
   "outputs": [],
   "source": [
    "titanic_test = titanic_test.dropna()"
   ]
  },
  {
   "cell_type": "code",
   "execution_count": 66,
   "id": "128974b0",
   "metadata": {},
   "outputs": [
    {
     "data": {
      "text/plain": [
       "Pclass      0\n",
       "Sex         0\n",
       "Age         0\n",
       "SibSp       0\n",
       "Parch       0\n",
       "Fare        0\n",
       "Embarked    0\n",
       "dtype: int64"
      ]
     },
     "execution_count": 66,
     "metadata": {},
     "output_type": "execute_result"
    }
   ],
   "source": [
    "titanic_test.isnull().sum()"
   ]
  },
  {
   "cell_type": "code",
   "execution_count": 67,
   "id": "6dffe054",
   "metadata": {},
   "outputs": [
    {
     "data": {
      "text/html": [
       "<div>\n",
       "<style scoped>\n",
       "    .dataframe tbody tr th:only-of-type {\n",
       "        vertical-align: middle;\n",
       "    }\n",
       "\n",
       "    .dataframe tbody tr th {\n",
       "        vertical-align: top;\n",
       "    }\n",
       "\n",
       "    .dataframe thead th {\n",
       "        text-align: right;\n",
       "    }\n",
       "</style>\n",
       "<table border=\"1\" class=\"dataframe\">\n",
       "  <thead>\n",
       "    <tr style=\"text-align: right;\">\n",
       "      <th></th>\n",
       "      <th>Pclass</th>\n",
       "      <th>Sex</th>\n",
       "      <th>Age</th>\n",
       "      <th>SibSp</th>\n",
       "      <th>Parch</th>\n",
       "      <th>Fare</th>\n",
       "      <th>Embarked</th>\n",
       "    </tr>\n",
       "  </thead>\n",
       "  <tbody>\n",
       "    <tr>\n",
       "      <th>0</th>\n",
       "      <td>3</td>\n",
       "      <td>male</td>\n",
       "      <td>34.5</td>\n",
       "      <td>0</td>\n",
       "      <td>0</td>\n",
       "      <td>7.8292</td>\n",
       "      <td>Q</td>\n",
       "    </tr>\n",
       "    <tr>\n",
       "      <th>1</th>\n",
       "      <td>3</td>\n",
       "      <td>female</td>\n",
       "      <td>47.0</td>\n",
       "      <td>1</td>\n",
       "      <td>0</td>\n",
       "      <td>7.0000</td>\n",
       "      <td>S</td>\n",
       "    </tr>\n",
       "  </tbody>\n",
       "</table>\n",
       "</div>"
      ],
      "text/plain": [
       "   Pclass     Sex   Age  SibSp  Parch    Fare Embarked\n",
       "0       3    male  34.5      0      0  7.8292        Q\n",
       "1       3  female  47.0      1      0  7.0000        S"
      ]
     },
     "execution_count": 67,
     "metadata": {},
     "output_type": "execute_result"
    }
   ],
   "source": [
    "titanic_test.head(2)"
   ]
  },
  {
   "cell_type": "code",
   "execution_count": 69,
   "id": "a3eaebf9",
   "metadata": {},
   "outputs": [
    {
     "data": {
      "text/html": [
       "<div>\n",
       "<style scoped>\n",
       "    .dataframe tbody tr th:only-of-type {\n",
       "        vertical-align: middle;\n",
       "    }\n",
       "\n",
       "    .dataframe tbody tr th {\n",
       "        vertical-align: top;\n",
       "    }\n",
       "\n",
       "    .dataframe thead th {\n",
       "        text-align: right;\n",
       "    }\n",
       "</style>\n",
       "<table border=\"1\" class=\"dataframe\">\n",
       "  <thead>\n",
       "    <tr style=\"text-align: right;\">\n",
       "      <th></th>\n",
       "      <th>Age_Category</th>\n",
       "      <th>Survived</th>\n",
       "      <th>Pclass</th>\n",
       "      <th>Sex</th>\n",
       "      <th>SibSp</th>\n",
       "      <th>Parch</th>\n",
       "      <th>Fare</th>\n",
       "      <th>Embarked</th>\n",
       "    </tr>\n",
       "  </thead>\n",
       "  <tbody>\n",
       "    <tr>\n",
       "      <th>0</th>\n",
       "      <td>Adult</td>\n",
       "      <td>0</td>\n",
       "      <td>3</td>\n",
       "      <td>male</td>\n",
       "      <td>1</td>\n",
       "      <td>0</td>\n",
       "      <td>7.2500</td>\n",
       "      <td>S</td>\n",
       "    </tr>\n",
       "    <tr>\n",
       "      <th>1</th>\n",
       "      <td>Mid senior</td>\n",
       "      <td>1</td>\n",
       "      <td>1</td>\n",
       "      <td>female</td>\n",
       "      <td>1</td>\n",
       "      <td>0</td>\n",
       "      <td>71.2833</td>\n",
       "      <td>C</td>\n",
       "    </tr>\n",
       "    <tr>\n",
       "      <th>2</th>\n",
       "      <td>Adult</td>\n",
       "      <td>1</td>\n",
       "      <td>3</td>\n",
       "      <td>female</td>\n",
       "      <td>0</td>\n",
       "      <td>0</td>\n",
       "      <td>7.9250</td>\n",
       "      <td>S</td>\n",
       "    </tr>\n",
       "    <tr>\n",
       "      <th>3</th>\n",
       "      <td>Mid senior</td>\n",
       "      <td>1</td>\n",
       "      <td>1</td>\n",
       "      <td>female</td>\n",
       "      <td>1</td>\n",
       "      <td>0</td>\n",
       "      <td>53.1000</td>\n",
       "      <td>S</td>\n",
       "    </tr>\n",
       "    <tr>\n",
       "      <th>4</th>\n",
       "      <td>Mid senior</td>\n",
       "      <td>0</td>\n",
       "      <td>3</td>\n",
       "      <td>male</td>\n",
       "      <td>0</td>\n",
       "      <td>0</td>\n",
       "      <td>8.0500</td>\n",
       "      <td>S</td>\n",
       "    </tr>\n",
       "    <tr>\n",
       "      <th>...</th>\n",
       "      <td>...</td>\n",
       "      <td>...</td>\n",
       "      <td>...</td>\n",
       "      <td>...</td>\n",
       "      <td>...</td>\n",
       "      <td>...</td>\n",
       "      <td>...</td>\n",
       "      <td>...</td>\n",
       "    </tr>\n",
       "    <tr>\n",
       "      <th>886</th>\n",
       "      <td>Adult</td>\n",
       "      <td>0</td>\n",
       "      <td>2</td>\n",
       "      <td>male</td>\n",
       "      <td>0</td>\n",
       "      <td>0</td>\n",
       "      <td>13.0000</td>\n",
       "      <td>S</td>\n",
       "    </tr>\n",
       "    <tr>\n",
       "      <th>887</th>\n",
       "      <td>Adult</td>\n",
       "      <td>1</td>\n",
       "      <td>1</td>\n",
       "      <td>female</td>\n",
       "      <td>0</td>\n",
       "      <td>0</td>\n",
       "      <td>30.0000</td>\n",
       "      <td>S</td>\n",
       "    </tr>\n",
       "    <tr>\n",
       "      <th>888</th>\n",
       "      <td>Adult</td>\n",
       "      <td>0</td>\n",
       "      <td>3</td>\n",
       "      <td>female</td>\n",
       "      <td>1</td>\n",
       "      <td>2</td>\n",
       "      <td>23.4500</td>\n",
       "      <td>S</td>\n",
       "    </tr>\n",
       "    <tr>\n",
       "      <th>889</th>\n",
       "      <td>Adult</td>\n",
       "      <td>1</td>\n",
       "      <td>1</td>\n",
       "      <td>male</td>\n",
       "      <td>0</td>\n",
       "      <td>0</td>\n",
       "      <td>30.0000</td>\n",
       "      <td>C</td>\n",
       "    </tr>\n",
       "    <tr>\n",
       "      <th>890</th>\n",
       "      <td>Mid senior</td>\n",
       "      <td>0</td>\n",
       "      <td>3</td>\n",
       "      <td>male</td>\n",
       "      <td>0</td>\n",
       "      <td>0</td>\n",
       "      <td>7.7500</td>\n",
       "      <td>Q</td>\n",
       "    </tr>\n",
       "  </tbody>\n",
       "</table>\n",
       "<p>889 rows × 8 columns</p>\n",
       "</div>"
      ],
      "text/plain": [
       "    Age_Category  Survived  Pclass     Sex  SibSp  Parch     Fare Embarked\n",
       "0          Adult         0       3    male      1      0   7.2500        S\n",
       "1     Mid senior         1       1  female      1      0  71.2833        C\n",
       "2          Adult         1       3  female      0      0   7.9250        S\n",
       "3     Mid senior         1       1  female      1      0  53.1000        S\n",
       "4     Mid senior         0       3    male      0      0   8.0500        S\n",
       "..           ...       ...     ...     ...    ...    ...      ...      ...\n",
       "886        Adult         0       2    male      0      0  13.0000        S\n",
       "887        Adult         1       1  female      0      0  30.0000        S\n",
       "888        Adult         0       3  female      1      2  23.4500        S\n",
       "889        Adult         1       1    male      0      0  30.0000        C\n",
       "890   Mid senior         0       3    male      0      0   7.7500        Q\n",
       "\n",
       "[889 rows x 8 columns]"
      ]
     },
     "execution_count": 69,
     "metadata": {},
     "output_type": "execute_result"
    }
   ],
   "source": [
    "df"
   ]
  },
  {
   "cell_type": "markdown",
   "id": "eed9d188",
   "metadata": {},
   "source": [
    "# Encoding the data"
   ]
  },
  {
   "cell_type": "code",
   "execution_count": 68,
   "id": "f0bc1318",
   "metadata": {},
   "outputs": [],
   "source": [
    "from sklearn.preprocessing import LabelEncoder"
   ]
  },
  {
   "cell_type": "code",
   "execution_count": 62,
   "id": "27d0cd94",
   "metadata": {},
   "outputs": [],
   "source": [
    "le = LabelEncoder()"
   ]
  },
  {
   "cell_type": "code",
   "execution_count": 63,
   "id": "1d14272f",
   "metadata": {},
   "outputs": [],
   "source": [
    "cat = df[['Age_Category', 'Sex', 'Embarked']]"
   ]
  },
  {
   "cell_type": "code",
   "execution_count": 64,
   "id": "a40585a8",
   "metadata": {},
   "outputs": [],
   "source": [
    "for i in cat:\n",
    "    df[i] = le.fit_transform(df[i])"
   ]
  },
  {
   "cell_type": "code",
   "execution_count": 65,
   "id": "7390d44d",
   "metadata": {},
   "outputs": [
    {
     "data": {
      "text/html": [
       "<div>\n",
       "<style scoped>\n",
       "    .dataframe tbody tr th:only-of-type {\n",
       "        vertical-align: middle;\n",
       "    }\n",
       "\n",
       "    .dataframe tbody tr th {\n",
       "        vertical-align: top;\n",
       "    }\n",
       "\n",
       "    .dataframe thead th {\n",
       "        text-align: right;\n",
       "    }\n",
       "</style>\n",
       "<table border=\"1\" class=\"dataframe\">\n",
       "  <thead>\n",
       "    <tr style=\"text-align: right;\">\n",
       "      <th></th>\n",
       "      <th>Age_Category</th>\n",
       "      <th>Survived</th>\n",
       "      <th>Pclass</th>\n",
       "      <th>Sex</th>\n",
       "      <th>SibSp</th>\n",
       "      <th>Parch</th>\n",
       "      <th>Fare</th>\n",
       "      <th>Embarked</th>\n",
       "    </tr>\n",
       "  </thead>\n",
       "  <tbody>\n",
       "    <tr>\n",
       "      <th>0</th>\n",
       "      <td>0</td>\n",
       "      <td>0</td>\n",
       "      <td>3</td>\n",
       "      <td>1</td>\n",
       "      <td>1</td>\n",
       "      <td>0</td>\n",
       "      <td>7.25</td>\n",
       "      <td>2</td>\n",
       "    </tr>\n",
       "  </tbody>\n",
       "</table>\n",
       "</div>"
      ],
      "text/plain": [
       "   Age_Category  Survived  Pclass  Sex  SibSp  Parch  Fare  Embarked\n",
       "0             0         0       3    1      1      0  7.25         2"
      ]
     },
     "execution_count": 65,
     "metadata": {},
     "output_type": "execute_result"
    }
   ],
   "source": [
    "df.head(1)"
   ]
  },
  {
   "cell_type": "code",
   "execution_count": 66,
   "id": "813e15c1",
   "metadata": {},
   "outputs": [],
   "source": [
    "lt = LabelEncoder()"
   ]
  },
  {
   "cell_type": "code",
   "execution_count": 67,
   "id": "571767ca",
   "metadata": {},
   "outputs": [],
   "source": [
    "cat1 = titanic_test[['Sex', 'Embarked']]"
   ]
  },
  {
   "cell_type": "code",
   "execution_count": 68,
   "id": "6bd5bbd0",
   "metadata": {},
   "outputs": [],
   "source": [
    "for i in cat1:\n",
    "    titanic_test[i] = lt.fit_transform(titanic_test[i])"
   ]
  },
  {
   "cell_type": "code",
   "execution_count": 69,
   "id": "62b06c77",
   "metadata": {},
   "outputs": [
    {
     "data": {
      "text/html": [
       "<div>\n",
       "<style scoped>\n",
       "    .dataframe tbody tr th:only-of-type {\n",
       "        vertical-align: middle;\n",
       "    }\n",
       "\n",
       "    .dataframe tbody tr th {\n",
       "        vertical-align: top;\n",
       "    }\n",
       "\n",
       "    .dataframe thead th {\n",
       "        text-align: right;\n",
       "    }\n",
       "</style>\n",
       "<table border=\"1\" class=\"dataframe\">\n",
       "  <thead>\n",
       "    <tr style=\"text-align: right;\">\n",
       "      <th></th>\n",
       "      <th>Pclass</th>\n",
       "      <th>Sex</th>\n",
       "      <th>Age</th>\n",
       "      <th>SibSp</th>\n",
       "      <th>Parch</th>\n",
       "      <th>Fare</th>\n",
       "      <th>Embarked</th>\n",
       "    </tr>\n",
       "  </thead>\n",
       "  <tbody>\n",
       "    <tr>\n",
       "      <th>0</th>\n",
       "      <td>3</td>\n",
       "      <td>1</td>\n",
       "      <td>34.5</td>\n",
       "      <td>0</td>\n",
       "      <td>0</td>\n",
       "      <td>7.8292</td>\n",
       "      <td>1</td>\n",
       "    </tr>\n",
       "  </tbody>\n",
       "</table>\n",
       "</div>"
      ],
      "text/plain": [
       "   Pclass  Sex   Age  SibSp  Parch    Fare  Embarked\n",
       "0       3    1  34.5      0      0  7.8292         1"
      ]
     },
     "execution_count": 69,
     "metadata": {},
     "output_type": "execute_result"
    }
   ],
   "source": [
    "titanic_test.head(1)"
   ]
  },
  {
   "cell_type": "markdown",
   "id": "319c2e34",
   "metadata": {},
   "source": [
    "# Handling with outliers for train data"
   ]
  },
  {
   "cell_type": "code",
   "execution_count": 70,
   "id": "73f02b37",
   "metadata": {},
   "outputs": [
    {
     "data": {
      "text/html": [
       "<div>\n",
       "<style scoped>\n",
       "    .dataframe tbody tr th:only-of-type {\n",
       "        vertical-align: middle;\n",
       "    }\n",
       "\n",
       "    .dataframe tbody tr th {\n",
       "        vertical-align: top;\n",
       "    }\n",
       "\n",
       "    .dataframe thead th {\n",
       "        text-align: right;\n",
       "    }\n",
       "</style>\n",
       "<table border=\"1\" class=\"dataframe\">\n",
       "  <thead>\n",
       "    <tr style=\"text-align: right;\">\n",
       "      <th></th>\n",
       "      <th>Age_Category</th>\n",
       "      <th>Survived</th>\n",
       "      <th>Pclass</th>\n",
       "      <th>Sex</th>\n",
       "      <th>SibSp</th>\n",
       "      <th>Parch</th>\n",
       "      <th>Fare</th>\n",
       "      <th>Embarked</th>\n",
       "    </tr>\n",
       "  </thead>\n",
       "  <tbody>\n",
       "    <tr>\n",
       "      <th>0</th>\n",
       "      <td>0</td>\n",
       "      <td>0</td>\n",
       "      <td>3</td>\n",
       "      <td>1</td>\n",
       "      <td>1</td>\n",
       "      <td>0</td>\n",
       "      <td>7.25</td>\n",
       "      <td>2</td>\n",
       "    </tr>\n",
       "  </tbody>\n",
       "</table>\n",
       "</div>"
      ],
      "text/plain": [
       "   Age_Category  Survived  Pclass  Sex  SibSp  Parch  Fare  Embarked\n",
       "0             0         0       3    1      1      0  7.25         2"
      ]
     },
     "execution_count": 70,
     "metadata": {},
     "output_type": "execute_result"
    }
   ],
   "source": [
    "df.head(1)"
   ]
  },
  {
   "cell_type": "code",
   "execution_count": 71,
   "id": "d1914050",
   "metadata": {},
   "outputs": [
    {
     "data": {
      "text/plain": [
       "Parch\n",
       "0    676\n",
       "1    118\n",
       "2     80\n",
       "5      5\n",
       "3      5\n",
       "4      4\n",
       "6      1\n",
       "Name: count, dtype: int64"
      ]
     },
     "execution_count": 71,
     "metadata": {},
     "output_type": "execute_result"
    }
   ],
   "source": [
    "df['Parch'].value_counts()"
   ]
  },
  {
   "cell_type": "code",
   "execution_count": 72,
   "id": "e8d3e574",
   "metadata": {},
   "outputs": [
    {
     "data": {
      "image/png": "[encoded data removed]",
      "text/plain": [
       "<Figure size 2200x1000 with 7 Axes>"
      ]
     },
     "metadata": {},
     "output_type": "display_data"
    }
   ],
   "source": [
    "plt.figure(figsize=(22,10))\n",
    "\n",
    "t = ['Age_Category', 'Survived', 'Pclass', 'Sex', 'SibSp', 'Fare', 'Embarked']\n",
    "for i in enumerate(t):\n",
    "    plt.subplot(2,4,i[0]+1)\n",
    "    sns.boxplot(y=df[i[1]])\n",
    "    plt.title(i[1])\n",
    "    plt.ylabel(\"\")"
   ]
  },
  {
   "cell_type": "markdown",
   "id": "7016d2f0",
   "metadata": {},
   "source": [
    "- from above Fare, SibSp attributes have outliers"
   ]
  },
  {
   "cell_type": "code",
   "execution_count": 73,
   "id": "7b50d9cd",
   "metadata": {},
   "outputs": [],
   "source": [
    "out = df[['Fare', 'SibSp']]"
   ]
  },
  {
   "cell_type": "code",
   "execution_count": 74,
   "id": "ec73bc0d",
   "metadata": {},
   "outputs": [],
   "source": [
    "for i in out:\n",
    "    q1 = np.percentile(df[i], 25)\n",
    "    q3 = np.percentile(df[i], 75)\n",
    "    iqr = q3 - q1\n",
    "    lower_bound = q1 - 1.5 * iqr\n",
    "    upper_bound = q3 + 1.5 * iqr\n",
    "    df[i] = np.clip(df[i],lower_bound, upper_bound)"
   ]
  },
  {
   "cell_type": "code",
   "execution_count": 75,
   "id": "a0f3d16c",
   "metadata": {},
   "outputs": [
    {
     "data": {
      "image/png": "[encoded data removed]",
      "text/plain": [
       "<Figure size 2200x1000 with 7 Axes>"
      ]
     },
     "metadata": {},
     "output_type": "display_data"
    }
   ],
   "source": [
    "plt.figure(figsize=(22,10))\n",
    "\n",
    "train = ['Age_Category', 'Survived', 'Pclass', 'Sex', 'SibSp', 'Fare','Embarked']\n",
    "for i in enumerate(train):\n",
    "    plt.subplot(2,4,i[0]+1)\n",
    "    sns.boxplot(y=df[i[1]])\n",
    "    plt.title(i[1])\n",
    "    plt.ylabel(\"\")"
   ]
  },
  {
   "cell_type": "markdown",
   "id": "42254952",
   "metadata": {},
   "source": [
    "# Hanling with outliers in test data"
   ]
  },
  {
   "cell_type": "code",
   "execution_count": 76,
   "id": "8ebdb7cb",
   "metadata": {},
   "outputs": [
    {
     "data": {
      "text/html": [
       "<div>\n",
       "<style scoped>\n",
       "    .dataframe tbody tr th:only-of-type {\n",
       "        vertical-align: middle;\n",
       "    }\n",
       "\n",
       "    .dataframe tbody tr th {\n",
       "        vertical-align: top;\n",
       "    }\n",
       "\n",
       "    .dataframe thead th {\n",
       "        text-align: right;\n",
       "    }\n",
       "</style>\n",
       "<table border=\"1\" class=\"dataframe\">\n",
       "  <thead>\n",
       "    <tr style=\"text-align: right;\">\n",
       "      <th></th>\n",
       "      <th>Pclass</th>\n",
       "      <th>Sex</th>\n",
       "      <th>Age</th>\n",
       "      <th>SibSp</th>\n",
       "      <th>Parch</th>\n",
       "      <th>Fare</th>\n",
       "      <th>Embarked</th>\n",
       "    </tr>\n",
       "  </thead>\n",
       "  <tbody>\n",
       "    <tr>\n",
       "      <th>0</th>\n",
       "      <td>3</td>\n",
       "      <td>1</td>\n",
       "      <td>34.5</td>\n",
       "      <td>0</td>\n",
       "      <td>0</td>\n",
       "      <td>7.8292</td>\n",
       "      <td>1</td>\n",
       "    </tr>\n",
       "    <tr>\n",
       "      <th>1</th>\n",
       "      <td>3</td>\n",
       "      <td>0</td>\n",
       "      <td>47.0</td>\n",
       "      <td>1</td>\n",
       "      <td>0</td>\n",
       "      <td>7.0000</td>\n",
       "      <td>2</td>\n",
       "    </tr>\n",
       "  </tbody>\n",
       "</table>\n",
       "</div>"
      ],
      "text/plain": [
       "   Pclass  Sex   Age  SibSp  Parch    Fare  Embarked\n",
       "0       3    1  34.5      0      0  7.8292         1\n",
       "1       3    0  47.0      1      0  7.0000         2"
      ]
     },
     "execution_count": 76,
     "metadata": {},
     "output_type": "execute_result"
    }
   ],
   "source": [
    "titanic_test.head(2)"
   ]
  },
  {
   "cell_type": "code",
   "execution_count": 77,
   "id": "1aca6770",
   "metadata": {},
   "outputs": [
    {
     "data": {
      "text/plain": [
       "Parch\n",
       "0    323\n",
       "1     52\n",
       "2     33\n",
       "3      3\n",
       "4      2\n",
       "9      2\n",
       "6      1\n",
       "5      1\n",
       "Name: count, dtype: int64"
      ]
     },
     "execution_count": 77,
     "metadata": {},
     "output_type": "execute_result"
    }
   ],
   "source": [
    "titanic_test['Parch'].value_counts()"
   ]
  },
  {
   "cell_type": "code",
   "execution_count": 78,
   "id": "1b191c24",
   "metadata": {},
   "outputs": [
    {
     "data": {
      "image/png": "[encoded data removed]",
      "text/plain": [
       "<Figure size 2200x1000 with 6 Axes>"
      ]
     },
     "metadata": {},
     "output_type": "display_data"
    }
   ],
   "source": [
    "plt.figure(figsize=(22,10))\n",
    "\n",
    "t1 = ['Pclass', 'Sex', 'Age', 'SibSp', 'Fare','Embarked']\n",
    "for i in enumerate(t1):\n",
    "    plt.subplot(2,3,i[0]+1)\n",
    "    sns.boxplot(y=titanic_test[i[1]])\n",
    "    plt.title(i[1])\n",
    "    plt.ylabel(\"\")"
   ]
  },
  {
   "cell_type": "markdown",
   "id": "0962a584",
   "metadata": {},
   "source": [
    "- Age, SibSp,Fare attributes have outliers"
   ]
  },
  {
   "cell_type": "code",
   "execution_count": 79,
   "id": "0a1562ef",
   "metadata": {},
   "outputs": [],
   "source": [
    "out1 = titanic_test[['Age', 'Fare', 'SibSp']]"
   ]
  },
  {
   "cell_type": "code",
   "execution_count": 80,
   "id": "8789ad33",
   "metadata": {},
   "outputs": [],
   "source": [
    "for i in out1:\n",
    "    q1 = np.percentile(titanic_test[i], 25)\n",
    "    q3 = np.percentile(titanic_test[i], 75)\n",
    "    iqr = q3 - q1\n",
    "    lower_bound = q1 - 1.5 * iqr\n",
    "    upper_bound = q3 + 1.5 * iqr\n",
    "    titanic_test[i] = np.clip(titanic_test[i],lower_bound, upper_bound)"
   ]
  },
  {
   "cell_type": "code",
   "execution_count": 81,
   "id": "b83a420b",
   "metadata": {},
   "outputs": [
    {
     "data": {
      "image/png": "[encoded data removed]",
      "text/plain": [
       "<Figure size 2200x1000 with 6 Axes>"
      ]
     },
     "metadata": {},
     "output_type": "display_data"
    }
   ],
   "source": [
    "plt.figure(figsize=(22,10))\n",
    "\n",
    "test = ['Pclass', 'Sex', 'Age', 'SibSp', 'Fare','Embarked']\n",
    "for i in enumerate(test):\n",
    "    plt.subplot(2,3,i[0]+1)\n",
    "    sns.boxplot(y=titanic_test[i[1]])\n",
    "    plt.title(i[1])\n",
    "    plt.ylabel(\"\")"
   ]
  },
  {
   "cell_type": "code",
   "execution_count": 82,
   "id": "288d296e",
   "metadata": {},
   "outputs": [
    {
     "data": {
      "image/png": "[encoded data removed]",
      "text/plain": [
       "<Figure size 640x480 with 1 Axes>"
      ]
     },
     "metadata": {},
     "output_type": "display_data"
    }
   ],
   "source": [
    "Survived_count = df['Survived'].value_counts()\n",
    "\n",
    "# Create a bar chart\n",
    "plt.bar(Survived_count.index, Survived_count, color=['pink', 'lightblue'])\n",
    "\n",
    "# Add labels and title\n",
    "plt.xlabel('Lost Life')\n",
    "plt.ylabel('Survived')\n",
    "plt.title('Distribution of Survived_count in Titanic Train Data')\n",
    "\n",
    "# Show the plot\n",
    "plt.show()"
   ]
  },
  {
   "cell_type": "code",
   "execution_count": 83,
   "id": "e57d28c9",
   "metadata": {},
   "outputs": [
    {
     "data": {
      "image/png": "[encoded data removed]",
      "text/plain": [
       "<Figure size 640x480 with 1 Axes>"
      ]
     },
     "metadata": {},
     "output_type": "display_data"
    }
   ],
   "source": [
    "Pclass_counts = df['Pclass'].value_counts()\n",
    "\n",
    "# Create a bar chart\n",
    "plt.bar(Pclass_counts.index, Pclass_counts, color=['pink', 'lightblue','lightgreen'])\n",
    "\n",
    "plt.title('Distribution of Pclass in Titanic Train Data')\n",
    "\n",
    "# Show the plot\n",
    "plt.show()"
   ]
  },
  {
   "cell_type": "code",
   "execution_count": 84,
   "id": "0c91ac11",
   "metadata": {
    "scrolled": true
   },
   "outputs": [
    {
     "data": {
      "image/png": "[encoded data removed]",
      "text/plain": [
       "<Figure size 640x480 with 1 Axes>"
      ]
     },
     "metadata": {},
     "output_type": "display_data"
    }
   ],
   "source": [
    "Sex_counts = df['Sex'].value_counts()\n",
    "\n",
    "# Create a bar chart\n",
    "plt.bar(Sex_counts.index, Sex_counts, color=['pink', 'lightblue'])\n",
    "\n",
    "plt.title('Sex in Titanic Train Data')\n",
    "\n",
    "# Show the plot\n",
    "plt.show()"
   ]
  },
  {
   "cell_type": "code",
   "execution_count": 85,
   "id": "0e16db7b",
   "metadata": {},
   "outputs": [
    {
     "data": {
      "text/html": [
       "<div>\n",
       "<style scoped>\n",
       "    .dataframe tbody tr th:only-of-type {\n",
       "        vertical-align: middle;\n",
       "    }\n",
       "\n",
       "    .dataframe tbody tr th {\n",
       "        vertical-align: top;\n",
       "    }\n",
       "\n",
       "    .dataframe thead th {\n",
       "        text-align: right;\n",
       "    }\n",
       "</style>\n",
       "<table border=\"1\" class=\"dataframe\">\n",
       "  <thead>\n",
       "    <tr style=\"text-align: right;\">\n",
       "      <th></th>\n",
       "      <th>Age_Category</th>\n",
       "      <th>Survived</th>\n",
       "      <th>Pclass</th>\n",
       "      <th>Sex</th>\n",
       "      <th>SibSp</th>\n",
       "      <th>Parch</th>\n",
       "      <th>Fare</th>\n",
       "      <th>Embarked</th>\n",
       "    </tr>\n",
       "  </thead>\n",
       "  <tbody>\n",
       "    <tr>\n",
       "      <th>0</th>\n",
       "      <td>0</td>\n",
       "      <td>0</td>\n",
       "      <td>3</td>\n",
       "      <td>1</td>\n",
       "      <td>1.0</td>\n",
       "      <td>0</td>\n",
       "      <td>7.2500</td>\n",
       "      <td>2</td>\n",
       "    </tr>\n",
       "    <tr>\n",
       "      <th>1</th>\n",
       "      <td>3</td>\n",
       "      <td>1</td>\n",
       "      <td>1</td>\n",
       "      <td>0</td>\n",
       "      <td>1.0</td>\n",
       "      <td>0</td>\n",
       "      <td>65.6563</td>\n",
       "      <td>0</td>\n",
       "    </tr>\n",
       "    <tr>\n",
       "      <th>2</th>\n",
       "      <td>0</td>\n",
       "      <td>1</td>\n",
       "      <td>3</td>\n",
       "      <td>0</td>\n",
       "      <td>0.0</td>\n",
       "      <td>0</td>\n",
       "      <td>7.9250</td>\n",
       "      <td>2</td>\n",
       "    </tr>\n",
       "    <tr>\n",
       "      <th>3</th>\n",
       "      <td>3</td>\n",
       "      <td>1</td>\n",
       "      <td>1</td>\n",
       "      <td>0</td>\n",
       "      <td>1.0</td>\n",
       "      <td>0</td>\n",
       "      <td>53.1000</td>\n",
       "      <td>2</td>\n",
       "    </tr>\n",
       "    <tr>\n",
       "      <th>4</th>\n",
       "      <td>3</td>\n",
       "      <td>0</td>\n",
       "      <td>3</td>\n",
       "      <td>1</td>\n",
       "      <td>0.0</td>\n",
       "      <td>0</td>\n",
       "      <td>8.0500</td>\n",
       "      <td>2</td>\n",
       "    </tr>\n",
       "  </tbody>\n",
       "</table>\n",
       "</div>"
      ],
      "text/plain": [
       "   Age_Category  Survived  Pclass  Sex  SibSp  Parch     Fare  Embarked\n",
       "0             0         0       3    1    1.0      0   7.2500         2\n",
       "1             3         1       1    0    1.0      0  65.6563         0\n",
       "2             0         1       3    0    0.0      0   7.9250         2\n",
       "3             3         1       1    0    1.0      0  53.1000         2\n",
       "4             3         0       3    1    0.0      0   8.0500         2"
      ]
     },
     "execution_count": 85,
     "metadata": {},
     "output_type": "execute_result"
    }
   ],
   "source": [
    "df.head()"
   ]
  },
  {
   "cell_type": "code",
   "execution_count": 101,
   "id": "5d0199db",
   "metadata": {},
   "outputs": [
    {
     "data": {
      "image/png": "[encoded data removed]",
      "text/plain": [
       "<Figure size 640x480 with 2 Axes>"
      ]
     },
     "metadata": {},
     "output_type": "display_data"
    }
   ],
   "source": [
    "sns.heatmap(df.corr())\n",
    "for i in range(len(df.columns)):\n",
    "    for j in range(len(df.columns)):\n",
    "        plt.text(j + 0.5, i + 0.5, f\"{df.corr().iloc[i, j]:.2f}\", ha='center', va='center', fontsize=10)\n",
    "plt.show()"
   ]
  },
  {
   "cell_type": "code",
   "execution_count": null,
   "id": "d588128c",
   "metadata": {},
   "outputs": [],
   "source": []
  }
 ],
 "metadata": {
  "kernelspec": {
   "display_name": "Python 3 (ipykernel)",
   "language": "python",
   "name": "python3"
  },
  "language_info": {
   "codemirror_mode": {
    "name": "ipython",
    "version": 3
   },
   "file_extension": ".py",
   "mimetype": "text/x-python",
   "name": "python",
   "nbconvert_exporter": "python",
   "pygments_lexer": "ipython3",
   "version": "3.11.5"
  }
 },
 "nbformat": 4,
 "nbformat_minor": 5
}
